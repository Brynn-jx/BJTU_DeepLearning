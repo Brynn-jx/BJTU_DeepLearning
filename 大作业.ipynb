{
 "cells": [
  {
   "cell_type": "code",
   "id": "initial_id",
   "metadata": {
    "collapsed": true,
    "ExecuteTime": {
     "end_time": "2025-09-05T11:31:20.495885Z",
     "start_time": "2025-09-05T11:31:20.486264Z"
    }
   },
   "source": [
    "import numpy as np\n",
    "import sklearn.preprocessing\n",
    "import torch\n",
    "from sklearn.model_selection import train_test_split\n",
    "import torch\n",
    "from matplotlib import pyplot as plt \n",
    "import random\n",
    "import torch.nn as nn\n",
    "from sklearn.preprocessing import StandardScaler, MinMaxScaler\n",
    "from torch.utils.data import Dataset, DataLoader, TensorDataset, Subset, SubsetRandomSampler\n",
    "import os\n",
    "import json\n",
    "import torchvision \n",
    "import torchvision.transforms as transforms\n",
    "from torch.utils.data import random_split\n",
    "import torch.nn.functional as F\n",
    "from sklearn.metrics import accuracy_score\n",
    "from tqdm.auto import tqdm\n",
    "from sklearn.model_selection import KFold\n",
    "import pandas as pd\n",
    "from time import time\n",
    "from torchvision.datasets import ImageFolder\n",
    "from torch import as_strided\n",
    "\n",
    "\n",
    "device = torch.device(\"cuda:0\") if torch.cuda.is_available() else torch.device(\"cpu\")"
   ],
   "outputs": [],
   "execution_count": 16
  },
  {
   "metadata": {
    "ExecuteTime": {
     "end_time": "2025-09-05T11:49:25.773254Z",
     "start_time": "2025-09-05T11:49:25.754316Z"
    }
   },
   "cell_type": "code",
   "source": [
    "train_ds = np.load('./NYC-stdn/volume_train.npz')['volume']\n",
    "test_ds = np.load('./NYC-stdn/volume_test.npz')['volume']"
   ],
   "id": "2ea7504617954de",
   "outputs": [],
   "execution_count": 34
  },
  {
   "metadata": {
    "ExecuteTime": {
     "end_time": "2025-09-05T11:49:26.218717Z",
     "start_time": "2025-09-05T11:49:26.213489Z"
    }
   },
   "cell_type": "code",
   "source": [
    "print(train_ds.shape)\n",
    "print(test_ds.shape)"
   ],
   "id": "1f2d5ba7779477b2",
   "outputs": [
    {
     "name": "stdout",
     "output_type": "stream",
     "text": [
      "(1920, 10, 20, 2)\n",
      "(960, 10, 20, 2)\n"
     ]
    }
   ],
   "execution_count": 35
  },
  {
   "metadata": {
    "ExecuteTime": {
     "end_time": "2025-09-05T11:49:26.932678Z",
     "start_time": "2025-09-05T11:49:26.924820Z"
    }
   },
   "cell_type": "code",
   "source": [
    "train_ds = train_ds.reshape(train_ds.shape[0], -1, train_ds.shape[3])\n",
    "test_ds = test_ds.reshape(test_ds.shape[0], -1, test_ds.shape[3])\n",
    "print(train_ds.shape)\n",
    "print(test_ds.shape)"
   ],
   "id": "98e8ca6b5c488c39",
   "outputs": [
    {
     "name": "stdout",
     "output_type": "stream",
     "text": [
      "(1920, 200, 2)\n",
      "(960, 200, 2)\n"
     ]
    }
   ],
   "execution_count": 36
  },
  {
   "metadata": {
    "ExecuteTime": {
     "end_time": "2025-09-05T11:51:04.989585Z",
     "start_time": "2025-09-05T11:51:04.958471Z"
    }
   },
   "cell_type": "code",
   "source": [
    "train_scaler = np.zeros(train_ds.shape)\n",
    "test_scaler = np.zeros(test_ds.shape)\n",
    "i_train_scaler = MinMaxScaler()  # 入的流量\n",
    "o_train_scaler = MinMaxScaler()  # 出的流量\n",
    "i_test_scaler = MinMaxScaler()  \n",
    "o_test_scaler = MinMaxScaler()\n",
    "# fit只支持2维的操作\n",
    "train_scaler[:,:,0] = i_train_scaler.fit_transform(train_ds[:,:,0])\n",
    "train_scaler[:,:,1] = o_train_scaler.fit_transform(train_ds[:,:,1])\n",
    "\n",
    "test_scaler[:,:,0] = i_test_scaler.fit_transform(test_ds[:,:,0])\n",
    "test_scaler[:,:,1] = o_test_scaler.fit_transform(test_ds[:,:,1])\n",
    "\n",
    "# 划分训练数据集，验证数据集，测试数据集\n",
    "train_proportion, val_proportion = 0.8, 0.2\n",
    "train_dataset = train_scaler[:int(train_proportion * len(train_ds)),:,:]\n",
    "val_dataset = train_scaler[int(train_proportion * len(train_ds)):,:,:]\n",
    "\n",
    "# train_dl = DataLoader(train_dataset, batch_size=64, shuffle=False)\n",
    "# val_dl = DataLoader(val_dataset, batch_size=64, shuffle=False)\n",
    "# test_dl = DataLoader(test_ds, batch_size=64, shuffle=False)"
   ],
   "id": "95c2f292316b0b6d",
   "outputs": [],
   "execution_count": 38
  },
  {
   "metadata": {
    "ExecuteTime": {
     "end_time": "2025-09-05T12:17:55.492956Z",
     "start_time": "2025-09-05T12:17:55.486812Z"
    }
   },
   "cell_type": "code",
   "source": [
    "class TrafficDataset(Dataset):\n",
    "    def __init__(self, dataset, window_size, pred_len):\n",
    "        self.window_size = window_size\n",
    "        self.pred_len = pred_len\n",
    "        self.dataset = dataset\n",
    "        self.T, self.N, self.F = self.dataset.shape  # 时间步，节点数，特征数\n",
    "    \n",
    "    def __len__(self):\n",
    "        return self.T - self.window_size - self.pred_len + 1\n",
    "    \n",
    "    def __getitem__(self, idx):\n",
    "        x = self.dataset[idx:idx + self.window_size, :, :]\n",
    "        y = self.dataset[idx + self.window_size:idx + self.window_size + self.pred_len, :, :]\n",
    "        x = torch.FloatTensor(x)  # shape: (window_size, N, F)\n",
    "        y = torch.FloatTensor(y)  # shape: (pred_len, N, F)\n",
    "        x = x.view(self.window_size, -1)\n",
    "        y = y.view(self.pred_len, -1)\n",
    "        return x, y"
   ],
   "id": "6b56f3fd4f2f1c0f",
   "outputs": [],
   "execution_count": 39
  },
  {
   "metadata": {
    "ExecuteTime": {
     "end_time": "2025-09-05T12:20:13.873775Z",
     "start_time": "2025-09-05T12:20:13.864175Z"
    }
   },
   "cell_type": "code",
   "source": [
    "train_ds = TrafficDataset(train_ds, window_size=6, pred_len=1)\n",
    "test_ds = TrafficDataset(test_ds, window_size=6, pred_len=1)\n",
    "train_dl = DataLoader(train_ds, batch_size=32, shuffle=False)\n",
    "test_dl = DataLoader(test_ds, batch_size=32, shuffle=False)"
   ],
   "id": "94e91a2d07b85a27",
   "outputs": [],
   "execution_count": 40
  },
  {
   "metadata": {
    "ExecuteTime": {
     "end_time": "2025-09-05T12:20:44.645922Z",
     "start_time": "2025-09-05T12:20:44.594351Z"
    }
   },
   "cell_type": "code",
   "source": [
    "for i, (x, y) in enumerate(train_dl):\n",
    "    print(x.shape)\n",
    "    print(y.shape)\n",
    "    break"
   ],
   "id": "745c5bdb4c3a8c66",
   "outputs": [
    {
     "name": "stdout",
     "output_type": "stream",
     "text": [
      "torch.Size([32, 6, 400])\n",
      "torch.Size([32, 1, 400])\n"
     ]
    }
   ],
   "execution_count": 42
  },
  {
   "metadata": {},
   "cell_type": "code",
   "outputs": [],
   "execution_count": null,
   "source": "",
   "id": "d6c2befdc6a61518"
  }
 ],
 "metadata": {
  "kernelspec": {
   "display_name": "Python 3",
   "language": "python",
   "name": "python3"
  },
  "language_info": {
   "codemirror_mode": {
    "name": "ipython",
    "version": 2
   },
   "file_extension": ".py",
   "mimetype": "text/x-python",
   "name": "python",
   "nbconvert_exporter": "python",
   "pygments_lexer": "ipython2",
   "version": "2.7.6"
  }
 },
 "nbformat": 4,
 "nbformat_minor": 5
}
