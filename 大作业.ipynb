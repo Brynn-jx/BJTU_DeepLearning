{
 "cells": [
  {
   "cell_type": "code",
   "id": "initial_id",
   "metadata": {
    "collapsed": true,
    "ExecuteTime": {
     "end_time": "2025-09-10T08:50:25.784857Z",
     "start_time": "2025-09-10T08:50:17.970582Z"
    }
   },
   "source": [
    "import numpy as np\n",
    "import sklearn.preprocessing\n",
    "import torch\n",
    "from sklearn.model_selection import train_test_split\n",
    "import torch\n",
    "from matplotlib import pyplot as plt \n",
    "import random\n",
    "import torch.nn as nn\n",
    "from sklearn.preprocessing import StandardScaler, MinMaxScaler\n",
    "from torch.utils.data import Dataset, DataLoader, TensorDataset, Subset, SubsetRandomSampler\n",
    "import os\n",
    "import json\n",
    "import torchvision \n",
    "import torchvision.transforms as transforms\n",
    "from torch.utils.data import random_split\n",
    "import torch.nn.functional as F\n",
    "from sklearn.metrics import accuracy_score\n",
    "from tqdm.auto import tqdm\n",
    "from sklearn.model_selection import KFold\n",
    "import pandas as pd\n",
    "from time import time\n",
    "from torchvision.datasets import ImageFolder\n",
    "from torch import as_strided\n",
    "\n",
    "\n",
    "device = torch.device(\"cuda:0\") if torch.cuda.is_available() else torch.device(\"cpu\")"
   ],
   "outputs": [],
   "execution_count": 1
  },
  {
   "metadata": {
    "ExecuteTime": {
     "end_time": "2025-09-10T08:50:28.523181Z",
     "start_time": "2025-09-10T08:50:28.503006Z"
    }
   },
   "cell_type": "code",
   "source": [
    "train_ds = np.load('./NYC-stdn/volume_train.npz')['volume']\n",
    "test_ds = np.load('./NYC-stdn/volume_test.npz')['volume']"
   ],
   "id": "2ea7504617954de",
   "outputs": [],
   "execution_count": 2
  },
  {
   "metadata": {
    "ExecuteTime": {
     "end_time": "2025-09-10T08:50:31.673679Z",
     "start_time": "2025-09-10T08:50:31.666842Z"
    }
   },
   "cell_type": "code",
   "source": [
    "print(train_ds.shape)\n",
    "print(test_ds.shape)\n",
    "print(test_ds.dtype)\n",
    "print(train_ds.dtype)"
   ],
   "id": "1f2d5ba7779477b2",
   "outputs": [
    {
     "name": "stdout",
     "output_type": "stream",
     "text": [
      "(1920, 10, 20, 2)\n",
      "(960, 10, 20, 2)\n",
      "float64\n",
      "float64\n"
     ]
    }
   ],
   "execution_count": 3
  },
  {
   "metadata": {
    "ExecuteTime": {
     "end_time": "2025-09-10T08:51:38.640937Z",
     "start_time": "2025-09-10T08:51:38.626786Z"
    }
   },
   "cell_type": "code",
   "source": [
    "train_ds = train_ds.reshape(train_ds.shape[0], -1, train_ds.shape[3])\n",
    "test_ds = test_ds.reshape(test_ds.shape[0], -1, test_ds.shape[3])\n",
    "print(train_ds.shape)\n",
    "print(test_ds.shape)"
   ],
   "id": "98e8ca6b5c488c39",
   "outputs": [
    {
     "name": "stdout",
     "output_type": "stream",
     "text": [
      "(1920, 200, 2)\n",
      "(960, 200, 2)\n"
     ]
    }
   ],
   "execution_count": 4
  },
  {
   "metadata": {
    "ExecuteTime": {
     "end_time": "2025-09-10T08:56:07.767759Z",
     "start_time": "2025-09-10T08:56:07.761166Z"
    }
   },
   "cell_type": "code",
   "source": [
    "def mean_std_normalize(tensor):\n",
    "    mean = tensor.mean()\n",
    "    std = tensor.std()\n",
    "    normalized = (tensor - mean) / (std + 1e-6)\n",
    "    return normalized, mean, std  # 返回归一化数据和参数"
   ],
   "id": "1278be7cacca85ad",
   "outputs": [],
   "execution_count": 5
  },
  {
   "metadata": {
    "ExecuteTime": {
     "end_time": "2025-09-10T08:56:53.191705Z",
     "start_time": "2025-09-10T08:56:53.186122Z"
    }
   },
   "cell_type": "code",
   "source": [
    "def mean_std_denormalize(normalized_tensor, mean, std):\n",
    "    return normalized_tensor * std + mean"
   ],
   "id": "2a91556828afd958",
   "outputs": [],
   "execution_count": 12
  },
  {
   "metadata": {
    "ExecuteTime": {
     "end_time": "2025-09-10T08:56:08.684568Z",
     "start_time": "2025-09-10T08:56:08.652436Z"
    }
   },
   "cell_type": "code",
   "source": [
    "train_ds = torch.from_numpy(train_ds)\n",
    "test_ds = torch.from_numpy(test_ds)\n",
    "train_scaler = torch.zeros(train_ds.shape)\n",
    "test_scaler = torch.zeros(test_ds.shape)\n",
    "# 归一化\n",
    "train_scaler[:,:,0], train_mean_i, train_std_i = mean_std_normalize(train_ds[:,:,0])\n",
    "train_scaler[:,:,1], train_mean_o, train_std_o = mean_std_normalize(train_ds[:,:,1])\n",
    "\n",
    "test_scaler[:,:,0], test_mean_i, test_std_i = mean_std_normalize(test_ds[:,:,0])\n",
    "test_scaler[:,:,1], test_mean_o, test_std_o = mean_std_normalize(test_ds[:,:,1])\n",
    "\n",
    "# 划分训练数据集，验证数据集，测试数据集\n",
    "train_proportion, val_proportion = 0.8, 0.2\n",
    "train_dataset = train_scaler[:int(train_proportion * len(train_ds)),:,:]\n",
    "val_dataset = train_scaler[int(train_proportion * len(train_ds)):,:,:]\n"
   ],
   "id": "95c2f292316b0b6d",
   "outputs": [],
   "execution_count": 7
  },
  {
   "metadata": {
    "ExecuteTime": {
     "end_time": "2025-09-10T08:56:12.696550Z",
     "start_time": "2025-09-10T08:56:12.690996Z"
    }
   },
   "cell_type": "code",
   "source": [
    "class TrafficDataset(Dataset):\n",
    "    def __init__(self, dataset, window_size, pred_len):\n",
    "        self.window_size = window_size\n",
    "        self.pred_len = pred_len\n",
    "        self.dataset = dataset\n",
    "        self.T, self.N, self.F = self.dataset.shape  # 时间步，节点数，特征数\n",
    "    \n",
    "    def __len__(self):\n",
    "        return self.T - self.window_size - self.pred_len\n",
    "    \n",
    "    def __getitem__(self, idx):\n",
    "        x = self.dataset[idx:idx + self.window_size, :]\n",
    "        y = self.dataset[idx + self.window_size:idx + self.window_size + self.pred_len, :]\n",
    "        x = torch.FloatTensor(x)  # shape: (window_size, N, F)\n",
    "        y = torch.FloatTensor(y)  # shape: (pred_len, N, F)\n",
    "        x = x.view(self.window_size, -1)\n",
    "        y = y.view(self.pred_len, -1)\n",
    "        return x, y"
   ],
   "id": "6b56f3fd4f2f1c0f",
   "outputs": [],
   "execution_count": 8
  },
  {
   "metadata": {
    "ExecuteTime": {
     "end_time": "2025-09-10T08:56:17.041966Z",
     "start_time": "2025-09-10T08:56:17.023772Z"
    }
   },
   "cell_type": "code",
   "source": [
    "train_ds = TrafficDataset(train_dataset, window_size=6, pred_len=1)\n",
    "val_ds = TrafficDataset(val_dataset, window_size=6, pred_len=1)\n",
    "test_ds = TrafficDataset(test_scaler, window_size=6, pred_len=1)\n",
    "train_dl = DataLoader(train_ds, batch_size=32, shuffle=False)\n",
    "val_dl = DataLoader(val_ds, batch_size=32, shuffle=False)\n",
    "test_dl = DataLoader(test_ds, batch_size=32, shuffle=False)"
   ],
   "id": "94e91a2d07b85a27",
   "outputs": [],
   "execution_count": 9
  },
  {
   "metadata": {
    "ExecuteTime": {
     "end_time": "2025-09-10T08:56:18.437606Z",
     "start_time": "2025-09-10T08:56:18.423553Z"
    }
   },
   "cell_type": "code",
   "source": [
    "for i, (x, y) in enumerate(test_dl):\n",
    "    print(x.dtype)\n",
    "    print(y.shape)\n",
    "    break\n",
    "    "
   ],
   "id": "745c5bdb4c3a8c66",
   "outputs": [
    {
     "name": "stdout",
     "output_type": "stream",
     "text": [
      "torch.float32\n",
      "torch.Size([32, 1, 400])\n"
     ]
    }
   ],
   "execution_count": 10
  },
  {
   "metadata": {
    "ExecuteTime": {
     "end_time": "2025-09-10T09:22:13.016965Z",
     "start_time": "2025-09-10T09:22:13.005330Z"
    }
   },
   "cell_type": "code",
   "source": [
    "from sklearn.metrics import accuracy_score\n",
    "\n",
    "@torch.no_grad()\n",
    "def evaluating(model, dataloader, loss_fct, flag=True):\n",
    "    loss_list = []\n",
    "    rmse_list_i = []\n",
    "    mae_list_i = []\n",
    "    rmse_list_o = []\n",
    "    mae_list_o = []\n",
    "    for datas, labels in dataloader:\n",
    "        datas = datas.to(device)\n",
    "        labels = labels.to(device)\n",
    "        # 前向计算\n",
    "        hidden = model(datas)\n",
    "        hidden = hidden.squeeze(0)\n",
    "        # hidden = hidden[1]\n",
    "        labels = labels.squeeze(1)\n",
    "        loss = loss_fct(hidden, labels)         # 验证集损失\n",
    "        if flag:    # 如果为True就代表是训练模式\n",
    "            labels = labels.reshape(labels.shape[0], 200, 2)\n",
    "            labels[:,:,0] = mean_std_denormalize(labels[:,:,0], train_mean_i, train_std_i)\n",
    "            labels[:,:,1] = mean_std_denormalize(labels[:,:,1], train_mean_o, train_std_o)\n",
    "            hidden = hidden.reshape(hidden.shape[0], 200, 2)\n",
    "            hidden[:,:,0] = mean_std_denormalize(hidden[:,:,0], train_mean_i, train_std_i)\n",
    "            hidden[:,:,1] = mean_std_denormalize(hidden[:,:,1], train_mean_o, train_std_o)\n",
    "        else:\n",
    "            labels = labels.reshape(labels.shape[0], 200, 2)\n",
    "            labels[:,:,0] = mean_std_denormalize(labels[:,:,0], test_mean_i, test_std_i)\n",
    "            labels[:,:,1] = mean_std_denormalize(labels[:,:,1], test_mean_o, test_std_o)\n",
    "            hidden = hidden.reshape(hidden.shape[0], 200, 2)\n",
    "            hidden[:,:,0] = mean_std_denormalize(hidden[:,:,0], test_mean_i, test_std_i)\n",
    "            hidden[:,:,1] = mean_std_denormalize(hidden[:,:,1], test_mean_o, test_std_o)\n",
    "        \n",
    "        # # 计算数据范围\n",
    "        # data_range_i = torch.max(labels[:,:,0]) - torch.min(labels[:,:,0]) \n",
    "        # # 计算相对误差率\n",
    "        # relative_error_i = torch.mean(torch.abs(labels[:,:,0] - hidden[:,:,0]) / data_range_i * 100)  # 百分比\n",
    "        # data_range_o = torch.max(labels[:,:,1]) - torch.min(labels[:,:,1]) \n",
    "        # # 计算相对误差率\n",
    "        # relative_error_o = torch.mean(torch.abs(labels[:,:,1] - hidden[:,:,1]) / data_range_o * 100)  # 百分比\n",
    "        # \n",
    "        # labels = labels.reshape(labels.shape[0], -1)\n",
    "        # hidden = hidden.reshape(hidden.shape[0], -1)\n",
    "        loss_list.append(loss.item())\n",
    "        rmse_i = torch.sqrt(torch.mean((labels[:,:,0] - hidden[:,:,0]) ** 2))   ## 计算RMSE\n",
    "        mae_i = torch.mean(torch.abs(labels - hidden)) # 计算MAE\n",
    "        rmse_o = torch.sqrt(torch.mean((labels[:,:,1] - hidden[:,:,1]) ** 2))   ## 计算RMSE\n",
    "        mae_o = torch.mean(torch.abs(labels - hidden)) # 计算MAE  \n",
    "        rmse_list_i.append(rmse_i.item())\n",
    "        mae_list_i.append(mae_i.item())\n",
    "        rmse_list_o.append(rmse_o.item())\n",
    "        mae_list_o.append(mae_o.item())\n",
    "    return np.mean(loss_list), np.mean(rmse_list_i), np.mean(mae_list_i), np.mean(rmse_list_o), np.mean(mae_list_o)\n"
   ],
   "id": "d6c2befdc6a61518",
   "outputs": [],
   "execution_count": 28
  },
  {
   "metadata": {
    "ExecuteTime": {
     "end_time": "2025-09-10T09:22:14.050321Z",
     "start_time": "2025-09-10T09:22:14.042693Z"
    }
   },
   "cell_type": "code",
   "source": [
    "class EarlyStopCallback:\n",
    "    def __init__(self, patience=5, min_delta=0.01):\n",
    "        self.patience = patience\n",
    "        self.min_delta = min_delta\n",
    "        self.best_metric = -1e5\n",
    "        self.counter = 0\n",
    "        \n",
    "    def __call__(self, metric):\n",
    "        if metric >= self.best_metric + self.min_delta:\n",
    "            # update best metric\n",
    "            self.best_metric = metric\n",
    "            # reset counter \n",
    "            self.counter = 0\n",
    "        else: \n",
    "            self.counter += 1\n",
    "            \n",
    "    @property\n",
    "    def early_stop(self):\n",
    "        return self.counter >= self.patience\n"
   ],
   "id": "68482b45d9666c44",
   "outputs": [],
   "execution_count": 29
  },
  {
   "metadata": {
    "ExecuteTime": {
     "end_time": "2025-09-10T09:22:15.212174Z",
     "start_time": "2025-09-10T09:22:15.205246Z"
    }
   },
   "cell_type": "code",
   "source": [
    "class TrafficModel(nn.Module):\n",
    "    def __init__(self, input_size, hidden_size, output_size):\n",
    "        super().__init__()\n",
    "        self.lstm = nn.LSTM(input_size, hidden_size, num_layers=1, batch_first=True)\n",
    "        # RNN的输出是hidden_size\n",
    "        self.y = nn.Sequential(\n",
    "            nn.Linear(hidden_size, 256),\n",
    "            nn.Linear(256, output_size),\n",
    "        )\n",
    "        # self.y = nn.Linear(hidden_size, output_size)\n",
    "                \n",
    "                \n",
    "    def forward(self, x):\n",
    "        output, (hidden, cell) = self.lstm(x)\n",
    "        hidden = self.y(hidden)\n",
    "        return  hidden"
   ],
   "id": "91517406d4cac24f",
   "outputs": [],
   "execution_count": 30
  },
  {
   "metadata": {
    "ExecuteTime": {
     "end_time": "2025-09-10T09:38:31.896452Z",
     "start_time": "2025-09-10T09:38:31.890413Z"
    }
   },
   "cell_type": "code",
   "source": [
    "class TrafficModel2(nn.Module):\n",
    "    def __init__(self):\n",
    "        super().__init__()\n",
    "        # 空间模块（2D CNN）\n",
    "        self.spatial = nn.Sequential(\n",
    "            nn.Conv2d(2, 64, kernel_size=3, padding=1),  # 输入6个时间步\n",
    "            nn.BatchNorm2d(64),\n",
    "            nn.ReLU(),\n",
    "            nn.MaxPool2d(2)\n",
    "        )\n",
    "        \n",
    "        # 时间模块（LSTM）\n",
    "        self.temporal = nn.LSTM(64*(10//2)*(20//2), 128)  # 空间下采样后尺寸\n",
    "        \n",
    "        # 联合预测头\n",
    "        self.head = nn.Sequential(\n",
    "            nn.Linear(128, 256),\n",
    "            nn.LayerNorm(256),\n",
    "            nn.Linear(256, 400)  # 输出200个区域的2个特征\n",
    "        )\n",
    "    \n",
    "    def forward(self, x): # torch.Size([32, 6, 10, 20, 2])\n",
    "        # 修改后的forward开始部分\n",
    "        B, T, H, W, C = x.shape\n",
    "        x = x.permute(0, 1, 4, 2, 3)  # (B,T,C,H,W)\n",
    "        x = x.reshape(B*T, C, H, W)    # 正确输入CNN\n",
    "        spatial_feat = self.spatial(x)  # (B*T, 64, H', W')\n",
    "        \n",
    "        # 时间处理\n",
    "        temporal_in = spatial_feat.reshape(B, T, -1)  # (B, T, 64*H'*W')\n",
    "        temporal_out, _ = self.temporal(temporal_in)\n",
    "        \n",
    "        # 预测\n",
    "        return self.head(temporal_out[:, -1])  # 取最后时间步"
   ],
   "id": "daedc1f6d97bb3c9",
   "outputs": [],
   "execution_count": 46
  },
  {
   "metadata": {
    "ExecuteTime": {
     "end_time": "2025-09-10T09:37:36.984298Z",
     "start_time": "2025-09-10T09:37:36.968953Z"
    }
   },
   "cell_type": "code",
   "source": [
    "# 多目标损失函数\n",
    "def loss_fn(pred, target):\n",
    "    mae = nn.L1Loss()(pred, target)\n",
    "    mse = nn.MSELoss()(pred, target)\n",
    "    return 0.7 * mae + 0.3 * mse  # 平衡误差敏感性"
   ],
   "id": "62adfffb5853ebf4",
   "outputs": [],
   "execution_count": 43
  },
  {
   "metadata": {
    "ExecuteTime": {
     "end_time": "2025-09-10T09:22:31.252797Z",
     "start_time": "2025-09-10T09:22:31.240341Z"
    }
   },
   "cell_type": "code",
   "source": [
    "# 训练\n",
    "def training(\n",
    "    model, \n",
    "    train_loader, \n",
    "    val_loader, \n",
    "    epoch, \n",
    "    loss_fct, \n",
    "    optimizer, \n",
    "    early_stop_callback=None,\n",
    "    eval_step=100,\n",
    "    flag=True\n",
    "    ):\n",
    "    record_dict = {\n",
    "        \"train\": [],\n",
    "        \"val\": []\n",
    "    }\n",
    "    \n",
    "    global_step = 0\n",
    "    model.train()\n",
    "    with tqdm(total=epoch * len(train_loader)) as pbar:\n",
    "        for epoch_id in range(epoch):\n",
    "            # training\n",
    "            for datas, labels in train_loader:\n",
    "                datas = datas.to(device)\n",
    "                labels = labels.to(device)\n",
    "                # 梯度清空\n",
    "                optimizer.zero_grad()\n",
    "                # 模型前向计算\n",
    "                hidden = model(datas)\n",
    "                hidden = hidden.squeeze(0)\n",
    "                # hidden = hidden[1]\n",
    "                labels = labels.squeeze(1)\n",
    "                # 计算损失\n",
    "                loss = loss_fct(hidden, labels)\n",
    "                # 梯度回传\n",
    "                loss.backward()\n",
    "                # 调整优化器，包括学习率的变动等\n",
    "                optimizer.step()\n",
    "                if flag:    # 如果为True就代表是训练模式\n",
    "                    labels = labels.reshape(labels.shape[0], 200, 2)\n",
    "                    labels[:,:,0] = mean_std_denormalize(labels[:,:,0], train_mean_i, train_std_i)\n",
    "                    labels[:,:,1] = mean_std_denormalize(labels[:,:,1], train_mean_o, train_std_o)\n",
    "                    hidden = hidden.reshape(hidden.shape[0], 200, 2)\n",
    "                    hidden[:,:,0] = mean_std_denormalize(hidden[:,:,0], train_mean_i, train_std_i)\n",
    "                    hidden[:,:,1] = mean_std_denormalize(hidden[:,:,1], train_mean_o, train_std_o)\n",
    "                else:\n",
    "                    labels = labels.reshape(labels.shape[0], 200, 2)\n",
    "                    labels[:,:,0] = mean_std_denormalize(labels[:,:,0], test_mean_i, test_std_i)\n",
    "                    labels[:,:,1] = mean_std_denormalize(labels[:,:,1], test_mean_o, test_std_o)\n",
    "                    hidden = hidden.reshape(hidden.shape[0], 200, 2)\n",
    "                    hidden[:,:,0] = mean_std_denormalize(hidden[:,:,0], test_mean_i, test_std_i)\n",
    "                    hidden[:,:,1] = mean_std_denormalize(hidden[:,:,1], test_mean_o, test_std_o)\n",
    "                \n",
    "                # # 计算数据范围\n",
    "                # data_range_i = torch.max(labels[:,:,0]) - torch.min(labels[:,:,0]) \n",
    "                # # 计算相对误差率\n",
    "                # relative_error_i = torch.mean(torch.abs(labels[:,:,0] - hidden[:,:,0]) / data_range_i * 100)  # 百分比\n",
    "                # data_range_o = torch.max(labels[:,:,1]) - torch.min(labels[:,:,1]) \n",
    "                # # 计算相对误差率\n",
    "                # relative_error_o = torch.mean(torch.abs(labels[:,:,1] - hidden[:,:,1]) / data_range_o * 100)  # 百分比\n",
    "                \n",
    "                # labels = labels.reshape(labels.shape[0], -1)\n",
    "                # hidden = hidden.reshape(hidden.shape[0], -1)\n",
    "                \n",
    "                rmse_i = torch.sqrt(torch.mean((labels[:,:,0] - hidden[:,:,0]) ** 2))   ## 计算RMSE\n",
    "                mae_i = torch.mean(torch.abs(labels - hidden)) # 计算MAE\n",
    "                loss = loss.cpu().item() # 计算损失\n",
    "                rmse_o = torch.sqrt(torch.mean((labels[:,:,1] - hidden[:,:,1]) ** 2))   ## 计算RMSE\n",
    "                mae_o = torch.mean(torch.abs(labels - hidden)) # 计算MAE                \n",
    "\n",
    "                # record\n",
    "                \n",
    "                record_dict[\"train\"].append({\n",
    "                    \"loss\": loss, \"rmse_i\": rmse_i.cpu().item(), \"mae_i\":mae_i.cpu().item(), \n",
    "                    \"rmse_o\":rmse_o.cpu().item(), \"mae_o\":mae_o.cpu().item(),\n",
    "                    \"step\": global_step # 记录每一步的损失和准确率\n",
    "                })\n",
    "                \n",
    "                # evaluating\n",
    "                if global_step % eval_step == 0:\n",
    "                    model.eval()\n",
    "                    val_loss, val_rmse_i, val_mae_i,val_rmse_o, val_mae_o = evaluating(model, val_loader, loss_fct, flag)\n",
    "                    record_dict[\"val\"].append({\n",
    "                        \"loss\": val_loss, \"rmse_i\": val_rmse_i, \"mae_i\":val_mae_i, \"rmse_o\": val_rmse_o, \"mae_o\":val_mae_o, \"step\": global_step\n",
    "                    })\n",
    "                    model.train()\n",
    "\n",
    "                    if early_stop_callback is not None:\n",
    "                        early_stop_callback(-(val_rmse_i + val_rmse_o + val_mae_i + val_mae_o)/4)\n",
    "                        if early_stop_callback.early_stop:\n",
    "                            print(f\"Early stop at epoch {epoch_id} / global_step {global_step}\")\n",
    "                            return record_dict\n",
    "                    \n",
    "                # udate step\n",
    "                global_step += 1\n",
    "                pbar.update(1)\n",
    "                pbar.set_postfix({\"epoch\": epoch_id})\n",
    "        \n",
    "    return record_dict"
   ],
   "id": "704c0de2c6c0ddac",
   "outputs": [],
   "execution_count": 33
  },
  {
   "metadata": {
    "ExecuteTime": {
     "end_time": "2025-09-10T09:00:58.186342Z",
     "start_time": "2025-09-10T08:59:29.728055Z"
    }
   },
   "cell_type": "code",
   "source": [
    "epoch = 1000\n",
    "model = TrafficModel(400, 128, 400)\n",
    "loss_fct = loss_fn\n",
    "optimizer = torch.optim.Adam(model.parameters(), lr=1e-3)\n",
    "early_stop_callback = EarlyStopCallback(patience=5)\n",
    "model = model.to(device)\n",
    "record = training(\n",
    "    model,\n",
    "    train_dl,\n",
    "    val_dl,\n",
    "    epoch,\n",
    "    loss_fct,\n",
    "    optimizer,\n",
    "    early_stop_callback=early_stop_callback,\n",
    "    eval_step=500,\n",
    "    flag=True,\n",
    "    )"
   ],
   "id": "4e4f2520b6c4fed2",
   "outputs": [
    {
     "data": {
      "text/plain": [
       "  0%|          | 0/48000 [00:00<?, ?it/s]"
      ],
      "application/vnd.jupyter.widget-view+json": {
       "version_major": 2,
       "version_minor": 0,
       "model_id": "a56fab00b097463b99003d353497c44c"
      }
     },
     "metadata": {},
     "output_type": "display_data"
    },
    {
     "name": "stdout",
     "output_type": "stream",
     "text": [
      "Early stop at epoch 218 / global_step 10500\n"
     ]
    }
   ],
   "execution_count": 21
  },
  {
   "metadata": {
    "ExecuteTime": {
     "end_time": "2025-09-10T09:40:44.106004Z",
     "start_time": "2025-09-10T09:40:44.094716Z"
    }
   },
   "cell_type": "code",
   "source": [
    "from sklearn.metrics import accuracy_score\n",
    "\n",
    "@torch.no_grad()\n",
    "def evaluating2(model, dataloader, loss_fct, flag=True):\n",
    "    loss_list = []\n",
    "    rmse_list_i = []\n",
    "    mae_list_i = []\n",
    "    rmse_list_o = []\n",
    "    mae_list_o = []\n",
    "    for datas, labels in dataloader:\n",
    "        datas = datas.to(device)\n",
    "        labels = labels.to(device)\n",
    "        datas = datas.reshape(datas.shape[0], 6, 10, 20 ,2)\n",
    "        # 前向计算\n",
    "        hidden = model(datas)\n",
    "        hidden = hidden.squeeze(0)\n",
    "        # hidden = hidden[1]\n",
    "        labels = labels.squeeze(1)\n",
    "        loss = loss_fct(hidden, labels)         # 验证集损失\n",
    "        if flag:    # 如果为True就代表是训练模式\n",
    "            labels = labels.reshape(labels.shape[0], 200, 2)\n",
    "            labels[:,:,0] = mean_std_denormalize(labels[:,:,0], train_mean_i, train_std_i)\n",
    "            labels[:,:,1] = mean_std_denormalize(labels[:,:,1], train_mean_o, train_std_o)\n",
    "            hidden = hidden.reshape(hidden.shape[0], 200, 2)\n",
    "            hidden[:,:,0] = mean_std_denormalize(hidden[:,:,0], train_mean_i, train_std_i)\n",
    "            hidden[:,:,1] = mean_std_denormalize(hidden[:,:,1], train_mean_o, train_std_o)\n",
    "        else:\n",
    "            labels = labels.reshape(labels.shape[0], 200, 2)\n",
    "            labels[:,:,0] = mean_std_denormalize(labels[:,:,0], test_mean_i, test_std_i)\n",
    "            labels[:,:,1] = mean_std_denormalize(labels[:,:,1], test_mean_o, test_std_o)\n",
    "            hidden = hidden.reshape(hidden.shape[0], 200, 2)\n",
    "            hidden[:,:,0] = mean_std_denormalize(hidden[:,:,0], test_mean_i, test_std_i)\n",
    "            hidden[:,:,1] = mean_std_denormalize(hidden[:,:,1], test_mean_o, test_std_o)\n",
    "        \n",
    "        # # 计算数据范围\n",
    "        # data_range_i = torch.max(labels[:,:,0]) - torch.min(labels[:,:,0]) \n",
    "        # # 计算相对误差率\n",
    "        # relative_error_i = torch.mean(torch.abs(labels[:,:,0] - hidden[:,:,0]) / data_range_i * 100)  # 百分比\n",
    "        # data_range_o = torch.max(labels[:,:,1]) - torch.min(labels[:,:,1]) \n",
    "        # # 计算相对误差率\n",
    "        # relative_error_o = torch.mean(torch.abs(labels[:,:,1] - hidden[:,:,1]) / data_range_o * 100)  # 百分比\n",
    "        # \n",
    "        # labels = labels.reshape(labels.shape[0], -1)\n",
    "        # hidden = hidden.reshape(hidden.shape[0], -1)\n",
    "        loss_list.append(loss.item())\n",
    "        rmse_i = torch.sqrt(torch.mean((labels[:,:,0] - hidden[:,:,0]) ** 2))   ## 计算RMSE\n",
    "        mae_i = torch.mean(torch.abs(labels - hidden)) # 计算MAE\n",
    "        rmse_o = torch.sqrt(torch.mean((labels[:,:,1] - hidden[:,:,1]) ** 2))   ## 计算RMSE\n",
    "        mae_o = torch.mean(torch.abs(labels - hidden)) # 计算MAE  \n",
    "        rmse_list_i.append(rmse_i.item())\n",
    "        mae_list_i.append(mae_i.item())\n",
    "        rmse_list_o.append(rmse_o.item())\n",
    "        mae_list_o.append(mae_o.item())\n",
    "    return np.mean(loss_list), np.mean(rmse_list_i), np.mean(mae_list_i), np.mean(rmse_list_o), np.mean(mae_list_o)\n"
   ],
   "id": "2347cda04208137d",
   "outputs": [],
   "execution_count": 48
  },
  {
   "metadata": {
    "ExecuteTime": {
     "end_time": "2025-09-10T09:40:45.107863Z",
     "start_time": "2025-09-10T09:40:45.094842Z"
    }
   },
   "cell_type": "code",
   "source": [
    "# 训练\n",
    "def training2(\n",
    "    model, \n",
    "    train_loader, \n",
    "    val_loader, \n",
    "    epoch, \n",
    "    loss_fct, \n",
    "    optimizer, \n",
    "    early_stop_callback=None,\n",
    "    eval_step=100,\n",
    "    flag=True\n",
    "    ):\n",
    "    record_dict = {\n",
    "        \"train\": [],\n",
    "        \"val\": []\n",
    "    }\n",
    "    \n",
    "    global_step = 0\n",
    "    model.train()\n",
    "    with tqdm(total=epoch * len(train_loader)) as pbar:\n",
    "        for epoch_id in range(epoch):\n",
    "            # training\n",
    "            for datas, labels in train_loader: #   B, T, H, W, C\n",
    "                datas = datas.to(device)\n",
    "                labels = labels.to(device)\n",
    "                datas = datas.reshape(datas.shape[0], 6, 10, 20 ,2)\n",
    "                # 梯度清空\n",
    "                optimizer.zero_grad()\n",
    "                # 模型前向计算\n",
    "                hidden = model(datas)\n",
    "                hidden = hidden.squeeze(0)\n",
    "                # hidden = hidden[1]\n",
    "                labels = labels.squeeze(1)\n",
    "                # 计算损失\n",
    "                loss = loss_fct(hidden, labels)\n",
    "                # 梯度回传\n",
    "                loss.backward()\n",
    "                # 调整优化器，包括学习率的变动等\n",
    "                optimizer.step()\n",
    "                if flag:    # 如果为True就代表是训练模式\n",
    "                    labels = labels.reshape(labels.shape[0], 200, 2)\n",
    "                    labels[:,:,0] = mean_std_denormalize(labels[:,:,0], train_mean_i, train_std_i)\n",
    "                    labels[:,:,1] = mean_std_denormalize(labels[:,:,1], train_mean_o, train_std_o)\n",
    "                    hidden = hidden.reshape(hidden.shape[0], 200, 2)\n",
    "                    hidden[:,:,0] = mean_std_denormalize(hidden[:,:,0], train_mean_i, train_std_i)\n",
    "                    hidden[:,:,1] = mean_std_denormalize(hidden[:,:,1], train_mean_o, train_std_o)\n",
    "                else:\n",
    "                    labels = labels.reshape(labels.shape[0], 200, 2)\n",
    "                    labels[:,:,0] = mean_std_denormalize(labels[:,:,0], test_mean_i, test_std_i)\n",
    "                    labels[:,:,1] = mean_std_denormalize(labels[:,:,1], test_mean_o, test_std_o)\n",
    "                    hidden = hidden.reshape(hidden.shape[0], 200, 2)\n",
    "                    hidden[:,:,0] = mean_std_denormalize(hidden[:,:,0], test_mean_i, test_std_i)\n",
    "                    hidden[:,:,1] = mean_std_denormalize(hidden[:,:,1], test_mean_o, test_std_o)\n",
    "                \n",
    "                rmse_i = torch.sqrt(torch.mean((labels[:,:,0] - hidden[:,:,0]) ** 2))   ## 计算RMSE\n",
    "                mae_i = torch.mean(torch.abs(labels - hidden)) # 计算MAE\n",
    "                loss = loss.cpu().item() # 计算损失\n",
    "                rmse_o = torch.sqrt(torch.mean((labels[:,:,1] - hidden[:,:,1]) ** 2))   ## 计算RMSE\n",
    "                mae_o = torch.mean(torch.abs(labels - hidden)) # 计算MAE                \n",
    "\n",
    "                # record\n",
    "                \n",
    "                record_dict[\"train\"].append({\n",
    "                    \"loss\": loss, \"rmse_i\": rmse_i.cpu().item(), \"mae_i\":mae_i.cpu().item(), \n",
    "                    \"rmse_o\":rmse_o.cpu().item(), \"mae_o\":mae_o.cpu().item(),\n",
    "                    \"step\": global_step # 记录每一步的损失和准确率\n",
    "                })\n",
    "                \n",
    "                # evaluating\n",
    "                if global_step % eval_step == 0:\n",
    "                    model.eval()\n",
    "                    val_loss, val_rmse_i, val_mae_i,val_rmse_o, val_mae_o = evaluating2(model, val_loader, loss_fct, flag)\n",
    "                    record_dict[\"val\"].append({\n",
    "                        \"loss\": val_loss, \"rmse_i\": val_rmse_i, \"mae_i\":val_mae_i, \"rmse_o\": val_rmse_o, \"mae_o\":val_mae_o, \"step\": global_step\n",
    "                    })\n",
    "                    model.train()\n",
    "\n",
    "                    if early_stop_callback is not None:\n",
    "                        early_stop_callback(-(val_rmse_i + val_rmse_o + val_mae_i + val_mae_o)/4)\n",
    "                        if early_stop_callback.early_stop:\n",
    "                            print(f\"Early stop at epoch {epoch_id} / global_step {global_step}\")\n",
    "                            return record_dict\n",
    "                    \n",
    "                # udate step\n",
    "                global_step += 1\n",
    "                pbar.update(1)\n",
    "                pbar.set_postfix({\"epoch\": epoch_id})\n",
    "        \n",
    "    return record_dict"
   ],
   "id": "dfca8a6b7170b040",
   "outputs": [],
   "execution_count": 49
  },
  {
   "metadata": {
    "ExecuteTime": {
     "end_time": "2025-09-10T12:59:47.837242Z",
     "start_time": "2025-09-10T12:48:29.160394Z"
    }
   },
   "cell_type": "code",
   "source": [
    "epoch = 1000\n",
    "model = TrafficModel2()\n",
    "loss_fct = loss_fn\n",
    "optimizer = torch.optim.Adam(model.parameters(), lr=1e-4, weight_decay=1e-4)\n",
    "early_stop_callback = EarlyStopCallback(patience=5)\n",
    "model = model.to(device)\n",
    "record = training2(\n",
    "    model,\n",
    "    train_dl,\n",
    "    val_dl,\n",
    "    epoch,\n",
    "    loss_fct,\n",
    "    optimizer,\n",
    "    early_stop_callback=early_stop_callback,\n",
    "    eval_step=500,\n",
    "    flag=True,\n",
    "    )"
   ],
   "id": "6ffb6470c688b3f9",
   "outputs": [
    {
     "data": {
      "text/plain": [
       "  0%|          | 0/48000 [00:00<?, ?it/s]"
      ],
      "application/vnd.jupyter.widget-view+json": {
       "version_major": 2,
       "version_minor": 0,
       "model_id": "b81e79af67b24c20bdd79810b00d2bbd"
      }
     },
     "metadata": {},
     "output_type": "display_data"
    },
    {
     "name": "stdout",
     "output_type": "stream",
     "text": [
      "Early stop at epoch 375 / global_step 18000\n"
     ]
    }
   ],
   "execution_count": 58
  },
  {
   "metadata": {
    "ExecuteTime": {
     "end_time": "2025-09-10T13:00:16.067651Z",
     "start_time": "2025-09-10T13:00:15.844920Z"
    }
   },
   "cell_type": "code",
   "source": [
    "step = [i[\"step\"] for i in record[\"train\"]]\n",
    "loss = [i[\"loss\"] for i in record[\"train\"]]\n",
    "plt.plot(step[::500], loss[::500], label=\"train_loss\")\n",
    "plt.plot([i[\"step\"] for i in record[\"val\"]], [i[\"loss\"] for i in record[\"val\"]], label=\"val_loss\")\n",
    "plt.grid()\n",
    "plt.legend()\n",
    "plt.show()"
   ],
   "id": "a762992bca1187d2",
   "outputs": [
    {
     "data": {
      "text/plain": [
       "<Figure size 640x480 with 1 Axes>"
      ],
      "image/png": "[encoded data removed]"
     },
     "metadata": {},
     "output_type": "display_data"
    }
   ],
   "execution_count": 59
  },
  {
   "metadata": {
    "ExecuteTime": {
     "end_time": "2025-09-10T13:00:18.391327Z",
     "start_time": "2025-09-10T13:00:18.289995Z"
    }
   },
   "cell_type": "code",
   "source": [
    "step = [i[\"step\"] for i in record[\"train\"]]\n",
    "rmse_i = [i[\"rmse_i\"] for i in record[\"train\"]]\n",
    "plt.plot(step[::500], rmse_i[::500], label=\"train_rmse_i\")\n",
    "plt.plot([i[\"step\"] for i in record[\"val\"]], [i[\"rmse_i\"] for i in record[\"val\"]], label=\"val_rmse_i\")\n",
    "plt.grid()\n",
    "plt.legend()\n",
    "plt.show()"
   ],
   "id": "c106df1a7bd68a9c",
   "outputs": [
    {
     "data": {
      "text/plain": [
       "<Figure size 640x480 with 1 Axes>"
      ],
      "image/png": "[encoded data removed]"
     },
     "metadata": {},
     "output_type": "display_data"
    }
   ],
   "execution_count": 60
  },
  {
   "metadata": {
    "ExecuteTime": {
     "end_time": "2025-09-10T13:00:20.244243Z",
     "start_time": "2025-09-10T13:00:20.126655Z"
    }
   },
   "cell_type": "code",
   "source": [
    "step = [i[\"step\"] for i in record[\"train\"]]\n",
    "mae_i = [i[\"mae_i\"] for i in record[\"train\"]]\n",
    "plt.plot(step[::500], mae_i[::500], label=\"train_mae_i\")\n",
    "plt.plot([i[\"step\"] for i in record[\"val\"]], [i[\"mae_i\"] for i in record[\"val\"]], label=\"val_mae_i\")\n",
    "plt.grid()\n",
    "plt.legend()\n",
    "plt.show()"
   ],
   "id": "b95cc0d487a6f637",
   "outputs": [
    {
     "data": {
      "text/plain": [
       "<Figure size 640x480 with 1 Axes>"
      ],
      "image/png": "[encoded data removed]"
     },
     "metadata": {},
     "output_type": "display_data"
    }
   ],
   "execution_count": 61
  },
  {
   "metadata": {
    "ExecuteTime": {
     "end_time": "2025-09-10T13:00:21.838744Z",
     "start_time": "2025-09-10T13:00:21.737995Z"
    }
   },
   "cell_type": "code",
   "source": [
    "step = [i[\"step\"] for i in record[\"train\"]]\n",
    "rmse_o = [i[\"rmse_i\"] for i in record[\"train\"]]\n",
    "plt.plot(step[::500], rmse_o[::500], label=\"train_rmse_o\")\n",
    "plt.plot([i[\"step\"] for i in record[\"val\"]], [i[\"rmse_o\"] for i in record[\"val\"]], label=\"val_rmse_o\")\n",
    "plt.grid()\n",
    "plt.legend()\n",
    "plt.show()"
   ],
   "id": "77177e930f32d637",
   "outputs": [
    {
     "data": {
      "text/plain": [
       "<Figure size 640x480 with 1 Axes>"
      ],
      "image/png": "[encoded data removed]"
     },
     "metadata": {},
     "output_type": "display_data"
    }
   ],
   "execution_count": 62
  },
  {
   "metadata": {
    "ExecuteTime": {
     "end_time": "2025-09-10T13:00:23.052631Z",
     "start_time": "2025-09-10T13:00:22.927219Z"
    }
   },
   "cell_type": "code",
   "source": [
    "step = [i[\"step\"] for i in record[\"train\"]]\n",
    "mae_o = [i[\"mae_o\"] for i in record[\"train\"]]\n",
    "plt.plot(step[::500], mae_o[::500], label=\"train_mae_o\")\n",
    "plt.plot([i[\"step\"] for i in record[\"val\"]], [i[\"mae_o\"] for i in record[\"val\"]], label=\"val_mae_o\")\n",
    "plt.grid()\n",
    "plt.legend()\n",
    "plt.show()"
   ],
   "id": "b7c2167cc39bb511",
   "outputs": [
    {
     "data": {
      "text/plain": [
       "<Figure size 640x480 with 1 Axes>"
      ],
      "image/png": "[encoded data removed]"
     },
     "metadata": {},
     "output_type": "display_data"
    }
   ],
   "execution_count": 63
  },
  {
   "metadata": {
    "ExecuteTime": {
     "end_time": "2025-09-10T13:00:25.042321Z",
     "start_time": "2025-09-10T13:00:24.667807Z"
    }
   },
   "cell_type": "code",
   "source": [
    "model.eval()\n",
    "loss, rmse_i, mae_i, rmse_o, mae_o = evaluating2(model, test_dl, loss_fct, False)\n",
    "print(f\"loss:     {loss:.4f}\\nrmse_i: {rmse_i:.4f}\\nmae_i: {mae_i:.4f}\\nrmse_o:{rmse_o:.4f}\\n\"\n",
    "      f\"mae_o:{mae_o:.4f}\")"
   ],
   "id": "7ace2c4ec40a0e6e",
   "outputs": [
    {
     "name": "stdout",
     "output_type": "stream",
     "text": [
      "loss:     0.0439\n",
      "rmse_i: 16.2542\n",
      "mae_i: 5.8261\n",
      "rmse_o:13.5170\n",
      "mae_o:5.8261\n"
     ]
    }
   ],
   "execution_count": 64
  },
  {
   "metadata": {},
   "cell_type": "code",
   "outputs": [],
   "execution_count": null,
   "source": [
    "loss:     5.2763\n",
    "rmse: 13.8539"
   ],
   "id": "8544208e84187b80"
  },
  {
   "metadata": {},
   "cell_type": "code",
   "outputs": [],
   "execution_count": null,
   "source": [
    "loss:     0.0431\n",
    "rmse_i: 15.4002\n",
    "mae_i: 5.7887\n",
    "rmse_o:12.8415\n",
    "mae_o:5.7887"
   ],
   "id": "cb2fce8d63f94d18"
  },
  {
   "metadata": {
    "ExecuteTime": {
     "end_time": "2025-09-07T02:34:30.268422Z",
     "start_time": "2025-09-07T02:34:30.255490Z"
    }
   },
   "cell_type": "code",
   "source": [
    "loss:     0.0439\n",
    "rmse_i: 16.2542\n",
    "mae_i: 5.8261\n",
    "rmse_o:13.5170\n",
    "mae_o:5.8261"
   ],
   "id": "d255773935a0a3c3",
   "outputs": [
    {
     "name": "stdout",
     "output_type": "stream",
     "text": [
      "tensor(0., dtype=torch.float64)\n",
      "tensor(1149., dtype=torch.float64)\n",
      "tensor(0., dtype=torch.float64)\n",
      "tensor(1283., dtype=torch.float64)\n"
     ]
    }
   ],
   "execution_count": 417
  },
  {
   "metadata": {},
   "cell_type": "code",
   "outputs": [],
   "execution_count": null,
   "source": "",
   "id": "c1f99354fa43de68"
  }
 ],
 "metadata": {
  "kernelspec": {
   "display_name": "Python 3",
   "language": "python",
   "name": "python3"
  },
  "language_info": {
   "codemirror_mode": {
    "name": "ipython",
    "version": 2
   },
   "file_extension": ".py",
   "mimetype": "text/x-python",
   "name": "python",
   "nbconvert_exporter": "python",
   "pygments_lexer": "ipython2",
   "version": "2.7.6"
  }
 },
 "nbformat": 4,
 "nbformat_minor": 5
}
