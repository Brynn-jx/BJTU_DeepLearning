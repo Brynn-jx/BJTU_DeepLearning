{
 "cells": [
  {
   "cell_type": "code",
   "id": "initial_id",
   "metadata": {
    "collapsed": true,
    "ExecuteTime": {
     "end_time": "2025-09-06T10:02:37.012491Z",
     "start_time": "2025-09-06T10:02:37.001295Z"
    }
   },
   "source": [
    "import numpy as np\n",
    "import sklearn.preprocessing\n",
    "import torch\n",
    "from sklearn.model_selection import train_test_split\n",
    "import torch\n",
    "from matplotlib import pyplot as plt \n",
    "import random\n",
    "import torch.nn as nn\n",
    "from sklearn.preprocessing import StandardScaler, MinMaxScaler\n",
    "from torch.utils.data import Dataset, DataLoader, TensorDataset, Subset, SubsetRandomSampler\n",
    "import os\n",
    "import json\n",
    "import torchvision \n",
    "import torchvision.transforms as transforms\n",
    "from torch.utils.data import random_split\n",
    "import torch.nn.functional as F\n",
    "from sklearn.metrics import accuracy_score\n",
    "from tqdm.auto import tqdm\n",
    "from sklearn.model_selection import KFold\n",
    "import pandas as pd\n",
    "from time import time\n",
    "from torchvision.datasets import ImageFolder\n",
    "from torch import as_strided\n",
    "\n",
    "\n",
    "device = torch.device(\"cuda:0\") if torch.cuda.is_available() else torch.device(\"cpu\")"
   ],
   "outputs": [],
   "execution_count": 350
  },
  {
   "metadata": {
    "ExecuteTime": {
     "end_time": "2025-09-06T10:02:37.644518Z",
     "start_time": "2025-09-06T10:02:37.614748Z"
    }
   },
   "cell_type": "code",
   "source": [
    "train_ds = np.load('./NYC-stdn/volume_train.npz')['volume']\n",
    "test_ds = np.load('./NYC-stdn/volume_test.npz')['volume']"
   ],
   "id": "2ea7504617954de",
   "outputs": [],
   "execution_count": 351
  },
  {
   "metadata": {
    "ExecuteTime": {
     "end_time": "2025-09-06T10:02:38.221984Z",
     "start_time": "2025-09-06T10:02:38.214078Z"
    }
   },
   "cell_type": "code",
   "source": [
    "print(train_ds.shape)\n",
    "print(test_ds.shape)\n",
    "print(test_ds.dtype)\n",
    "print(train_ds.dtype)"
   ],
   "id": "1f2d5ba7779477b2",
   "outputs": [
    {
     "name": "stdout",
     "output_type": "stream",
     "text": [
      "(1920, 10, 20, 2)\n",
      "(960, 10, 20, 2)\n",
      "float64\n",
      "float64\n"
     ]
    }
   ],
   "execution_count": 352
  },
  {
   "metadata": {
    "ExecuteTime": {
     "end_time": "2025-09-06T10:03:35.583218Z",
     "start_time": "2025-09-06T10:03:35.571742Z"
    }
   },
   "cell_type": "code",
   "source": [
    "train_ds = train_ds.reshape(train_ds.shape[0], -1, train_ds.shape[3])\n",
    "test_ds = test_ds.reshape(test_ds.shape[0], -1, test_ds.shape[3])\n",
    "print(train_ds.shape)\n",
    "print(test_ds.shape)"
   ],
   "id": "98e8ca6b5c488c39",
   "outputs": [
    {
     "name": "stdout",
     "output_type": "stream",
     "text": [
      "(1920, 200, 2)\n",
      "(960, 200, 2)\n"
     ]
    }
   ],
   "execution_count": 354
  },
  {
   "metadata": {
    "ExecuteTime": {
     "end_time": "2025-09-06T10:03:39.895445Z",
     "start_time": "2025-09-06T10:03:39.885475Z"
    }
   },
   "cell_type": "code",
   "source": [
    "def min_max_normalize(tensor):\n",
    "    min_val = tensor.min()\n",
    "    max_val = tensor.max()\n",
    "    normalized = (tensor - min_val) / (max_val - min_val + 1e-8)\n",
    "    return normalized, min_val, max_val  # 返回归一化数据和参数"
   ],
   "id": "1278be7cacca85ad",
   "outputs": [],
   "execution_count": 355
  },
  {
   "metadata": {
    "ExecuteTime": {
     "end_time": "2025-09-06T10:03:40.368438Z",
     "start_time": "2025-09-06T10:03:40.363397Z"
    }
   },
   "cell_type": "code",
   "source": [
    "def min_max_denormalize(normalized_tensor, min_val, max_val):\n",
    "    return normalized_tensor * (max_val - min_val) + min_val"
   ],
   "id": "2a91556828afd958",
   "outputs": [],
   "execution_count": 356
  },
  {
   "metadata": {
    "ExecuteTime": {
     "end_time": "2025-09-06T10:03:45.678577Z",
     "start_time": "2025-09-06T10:03:45.662060Z"
    }
   },
   "cell_type": "code",
   "source": [
    "train_ds = torch.from_numpy(train_ds)\n",
    "test_ds = torch.from_numpy(test_ds)\n",
    "train_scaler = torch.zeros(train_ds.shape)\n",
    "test_scaler = torch.zeros(test_ds.shape)\n",
    "# 归一化\n",
    "train_scaler[:,:,0], train_min_i, train_max_i = min_max_normalize(train_ds[:,:,0])\n",
    "train_scaler[:,:,1], train_min_o, train_max_o = min_max_normalize(train_ds[:,:,1])\n",
    "\n",
    "test_scaler[:,:,0], test_min_i, test_max_i = min_max_normalize(test_ds[:,:,0])\n",
    "test_scaler[:,:,1], test_min_o, test_max_o = min_max_normalize(test_ds[:,:,1])\n",
    "\n",
    "# 划分训练数据集，验证数据集，测试数据集\n",
    "train_proportion, val_proportion = 0.8, 0.2\n",
    "train_dataset = train_scaler[:int(train_proportion * len(train_ds)),:,:]\n",
    "val_dataset = train_scaler[int(train_proportion * len(train_ds)):,:,:]\n"
   ],
   "id": "95c2f292316b0b6d",
   "outputs": [],
   "execution_count": 357
  },
  {
   "metadata": {
    "ExecuteTime": {
     "end_time": "2025-09-06T10:03:46.412231Z",
     "start_time": "2025-09-06T10:03:46.401955Z"
    }
   },
   "cell_type": "code",
   "source": [
    "class TrafficDataset(Dataset):\n",
    "    def __init__(self, dataset, window_size, pred_len):\n",
    "        self.window_size = window_size\n",
    "        self.pred_len = pred_len\n",
    "        self.dataset = dataset\n",
    "        self.T, self.N, self.F = self.dataset.shape  # 时间步，节点数，特征数\n",
    "    \n",
    "    def __len__(self):\n",
    "        return self.T - self.window_size - self.pred_len\n",
    "    \n",
    "    def __getitem__(self, idx):\n",
    "        x = self.dataset[idx:idx + self.window_size, :]\n",
    "        y = self.dataset[idx + self.window_size:idx + self.window_size + self.pred_len, :]\n",
    "        x = torch.FloatTensor(x)  # shape: (window_size, N, F)\n",
    "        y = torch.FloatTensor(y)  # shape: (pred_len, N, F)\n",
    "        x = x.view(self.window_size, -1)\n",
    "        y = y.view(self.pred_len, -1)\n",
    "        return x, y"
   ],
   "id": "6b56f3fd4f2f1c0f",
   "outputs": [],
   "execution_count": 358
  },
  {
   "metadata": {
    "ExecuteTime": {
     "end_time": "2025-09-06T10:03:58.587411Z",
     "start_time": "2025-09-06T10:03:58.581924Z"
    }
   },
   "cell_type": "code",
   "source": [
    "train_ds = TrafficDataset(train_dataset, window_size=6, pred_len=1)\n",
    "val_ds = TrafficDataset(val_dataset, window_size=6, pred_len=1)\n",
    "test_ds = TrafficDataset(test_scaler, window_size=6, pred_len=1)\n",
    "train_dl = DataLoader(train_ds, batch_size=32, shuffle=False)\n",
    "val_dl = DataLoader(val_ds, batch_size=32, shuffle=False)\n",
    "test_dl = DataLoader(test_ds, batch_size=32, shuffle=False)"
   ],
   "id": "94e91a2d07b85a27",
   "outputs": [],
   "execution_count": 360
  },
  {
   "metadata": {
    "ExecuteTime": {
     "end_time": "2025-09-06T10:03:59.545473Z",
     "start_time": "2025-09-06T10:03:59.534891Z"
    }
   },
   "cell_type": "code",
   "source": [
    "for i, (x, y) in enumerate(test_dl):\n",
    "    print(x.dtype)\n",
    "    print(y.shape)\n",
    "    break\n",
    "    "
   ],
   "id": "745c5bdb4c3a8c66",
   "outputs": [
    {
     "name": "stdout",
     "output_type": "stream",
     "text": [
      "torch.float32\n",
      "torch.Size([32, 1, 400])\n"
     ]
    }
   ],
   "execution_count": 361
  },
  {
   "metadata": {
    "ExecuteTime": {
     "end_time": "2025-09-06T10:04:26.299159Z",
     "start_time": "2025-09-06T10:04:26.290027Z"
    }
   },
   "cell_type": "code",
   "source": [
    "from sklearn.metrics import accuracy_score\n",
    "\n",
    "@torch.no_grad()\n",
    "def evaluating(model, dataloader, loss_fct, flag=True):\n",
    "    loss_list = []\n",
    "    rmse_list = []\n",
    "    mae_list = []\n",
    "    for datas, labels in dataloader:\n",
    "        datas = datas.to(device)\n",
    "        labels = labels.to(device)\n",
    "        # 前向计算\n",
    "        outputs, hidden = model(datas)\n",
    "        hidden = hidden.squeeze(0)\n",
    "        # hidden = hidden[1]\n",
    "        labels = labels.squeeze(1)\n",
    "        loss = loss_fct(hidden, labels)         # 验证集损失\n",
    "        if flag:    # 如果为True就代表是训练模式\n",
    "            labels = labels.reshape(labels.shape[0], 200, 2)\n",
    "            labels[:,:,0] = min_max_denormalize(labels[:,:,0], train_min_i, train_max_i)\n",
    "            labels[:,:,1] = min_max_denormalize(labels[:,:,1], train_min_o, train_max_o)\n",
    "            hidden = hidden.reshape(hidden.shape[0], 200, 2)\n",
    "            hidden[:,:,0] = min_max_denormalize(hidden[:,:,0], train_min_i, train_max_i)\n",
    "            hidden[:,:,1] = min_max_denormalize(hidden[:,:,1], train_min_o, train_max_o)\n",
    "        else:\n",
    "            labels = labels.reshape(labels.shape[0], 200, 2)\n",
    "            labels[:,:,0] = min_max_denormalize(labels[:,:,0], test_min_i, test_max_i)\n",
    "            labels[:,:,1] = min_max_denormalize(labels[:,:,1], test_min_o, test_max_o)\n",
    "            hidden = hidden.reshape(hidden.shape[0], 200, 2)\n",
    "            hidden[:,:,0] = min_max_denormalize(hidden[:,:,0], test_min_i, test_max_i)\n",
    "            hidden[:,:,1] = min_max_denormalize(hidden[:,:,1], test_min_o, test_max_o)\n",
    "            \n",
    "        labels = labels.reshape(labels.shape[0], -1)\n",
    "        hidden = hidden.reshape(hidden.shape[0], -1)\n",
    "        loss_list.append(loss.item())\n",
    "        rmse = torch.sqrt(torch.mean((labels - hidden) ** 2))   ## 计算RMSE\n",
    "        mae = torch.mean(torch.abs(labels - hidden)) # 计算MAE\n",
    "        rmse_list.append(rmse.item())\n",
    "        mae_list.append(mae.item())\n",
    "        \n",
    "    return np.mean(loss_list), np.mean(rmse_list), np.mean(mae_list)\n"
   ],
   "id": "d6c2befdc6a61518",
   "outputs": [],
   "execution_count": 363
  },
  {
   "metadata": {
    "ExecuteTime": {
     "end_time": "2025-09-06T10:04:28.349417Z",
     "start_time": "2025-09-06T10:04:28.333400Z"
    }
   },
   "cell_type": "code",
   "source": [
    "class EarlyStopCallback:\n",
    "    def __init__(self, patience=5, min_delta=0.01):\n",
    "        self.patience = patience\n",
    "        self.min_delta = min_delta\n",
    "        self.best_metric = -1e5\n",
    "        self.counter = 0\n",
    "        \n",
    "    def __call__(self, metric):\n",
    "        if metric >= self.best_metric + self.min_delta:\n",
    "            # update best metric\n",
    "            self.best_metric = metric\n",
    "            # reset counter \n",
    "            self.counter = 0\n",
    "        else: \n",
    "            self.counter += 1\n",
    "            \n",
    "    @property\n",
    "    def early_stop(self):\n",
    "        return self.counter >= self.patience\n"
   ],
   "id": "68482b45d9666c44",
   "outputs": [],
   "execution_count": 364
  },
  {
   "metadata": {
    "ExecuteTime": {
     "end_time": "2025-09-06T10:04:32.289605Z",
     "start_time": "2025-09-06T10:04:32.278002Z"
    }
   },
   "cell_type": "code",
   "source": [
    "class TrafficModel(nn.Module):\n",
    "    def __init__(self, input_size, hidden_size, output_size):\n",
    "        super().__init__()\n",
    "        self.lstm = nn.LSTM(input_size, hidden_size, num_layers=1, batch_first=True)\n",
    "        # RNN的输出是hidden_size\n",
    "        # self.y = nn.Sequential(\n",
    "        #     nn.Linear(hidden_size, 256),\n",
    "        #     nn.Linear(256, output_size),\n",
    "        # )\n",
    "        self.y = nn.Linear(hidden_size, output_size)\n",
    "                \n",
    "                \n",
    "    def forward(self, x):\n",
    "        output, (hidden, cell) = self.lstm(x)\n",
    "        hidden = self.y(hidden)\n",
    "        return  output, hidden"
   ],
   "id": "91517406d4cac24f",
   "outputs": [],
   "execution_count": 365
  },
  {
   "metadata": {
    "ExecuteTime": {
     "end_time": "2025-09-06T10:04:36.021393Z",
     "start_time": "2025-09-06T10:04:36.016799Z"
    }
   },
   "cell_type": "code",
   "source": [
    "# 多目标损失函数\n",
    "def loss_fn(pred, target):\n",
    "    mae = nn.L1Loss()(pred, target)\n",
    "    mse = nn.MSELoss()(pred, target)\n",
    "    return 0.7 * mae + 0.3 * mse  # 平衡误差敏感性"
   ],
   "id": "62adfffb5853ebf4",
   "outputs": [],
   "execution_count": 366
  },
  {
   "metadata": {
    "ExecuteTime": {
     "end_time": "2025-09-06T10:04:51.325223Z",
     "start_time": "2025-09-06T10:04:51.302716Z"
    }
   },
   "cell_type": "code",
   "source": [
    "# 训练\n",
    "def training(\n",
    "    model, \n",
    "    train_loader, \n",
    "    val_loader, \n",
    "    epoch, \n",
    "    loss_fct, \n",
    "    optimizer, \n",
    "    early_stop_callback=None,\n",
    "    eval_step=100,\n",
    "    flag=True\n",
    "    ):\n",
    "    record_dict = {\n",
    "        \"train\": [],\n",
    "        \"val\": []\n",
    "    }\n",
    "    \n",
    "    global_step = 0\n",
    "    model.train()\n",
    "    with tqdm(total=epoch * len(train_loader)) as pbar:\n",
    "        for epoch_id in range(epoch):\n",
    "            # training\n",
    "            for datas, labels in train_loader:\n",
    "                datas = datas.to(device)\n",
    "                labels = labels.to(device)\n",
    "                # 梯度清空\n",
    "                optimizer.zero_grad()\n",
    "                # 模型前向计算\n",
    "                output, hidden = model(datas)\n",
    "                hidden = hidden.squeeze(0)\n",
    "                # hidden = hidden[1]\n",
    "                labels = labels.squeeze(1)\n",
    "                # 计算损失\n",
    "                loss = loss_fct(hidden, labels)\n",
    "                # 梯度回传\n",
    "                loss.backward()\n",
    "                # 调整优化器，包括学习率的变动等\n",
    "                optimizer.step()\n",
    "                if flag:    # 如果为True就代表是训练模式\n",
    "                    labels = labels.reshape(labels.shape[0], 200, 2)\n",
    "                    labels[:,:,0] = min_max_denormalize(labels[:,:,0], train_min_i, train_max_i)\n",
    "                    labels[:,:,1] = min_max_denormalize(labels[:,:,1], train_min_o, train_max_o)\n",
    "                    hidden = hidden.reshape(hidden.shape[0], 200, 2)\n",
    "                    hidden[:,:,0] = min_max_denormalize(hidden[:,:,0], train_min_i, train_max_i)\n",
    "                    hidden[:,:,1] = min_max_denormalize(hidden[:,:,1], train_min_o, train_max_o)\n",
    "                else:\n",
    "                    labels = labels.reshape(labels.shape[0], 200, 2)\n",
    "                    labels[:,:,0] = min_max_denormalize(labels[:,:,0], test_min_i, test_max_i)\n",
    "                    labels[:,:,1] = min_max_denormalize(labels[:,:,1], test_min_o, test_max_o)\n",
    "                    hidden = hidden.reshape(hidden.shape[0], 200, 2)\n",
    "                    hidden[:,:,0] = min_max_denormalize(hidden[:,:,0], test_min_i, test_max_i)\n",
    "                    hidden[:,:,1] = min_max_denormalize(hidden[:,:,1], test_min_o, test_max_o)\n",
    "                \n",
    "                # 计算数据范围\n",
    "                data_range_i = torch.max(labels[:,:,0]) - torch.min(labels[:,:,0]) \n",
    "                # 计算相对误差率\n",
    "                relative_error_i = torch.mean(torch.abs(labels[:,:,0] - hidden[:,:,0]) / data_range_i * 100)  # 百分比\n",
    "                data_range_o = torch.max(labels[:,:,1]) - torch.min(labels[:,:,1]) \n",
    "                # 计算相对误差率\n",
    "                relative_error_o = torch.mean(torch.abs(labels[:,:,1] - hidden[:,:,1]) / data_range_o * 100)  # 百分比\n",
    "                \n",
    "                labels = labels.reshape(labels.shape[0], -1)\n",
    "                hidden = hidden.reshape(hidden.shape[0], -1)\n",
    "                \n",
    "                rmse = torch.sqrt(torch.mean((labels - hidden) ** 2))   ## 计算RMSE\n",
    "                mae = torch.mean(torch.abs(labels - hidden)) # 计算MAE\n",
    "                loss = loss.cpu().item() # 计算损失\n",
    "                # 计算相对误差\n",
    "                \n",
    "                \n",
    "          \n",
    "\n",
    "                # record\n",
    "                \n",
    "                record_dict[\"train\"].append({\n",
    "                    \"loss\": loss, \"rmse\": rmse.cpu().item(), \"mae\":mae.cpu().item(), \"relative_error_i\":relative_error_i,\"relative_error_o\":relative_error_o, \"step\": global_step # 记录每一步的损失和准确率\n",
    "                })\n",
    "                \n",
    "                # evaluating\n",
    "                if global_step % eval_step == 0:\n",
    "                    model.eval()\n",
    "                    val_loss, val_rmse, val_mae = evaluating(model, val_loader, loss_fct, flag)\n",
    "                    record_dict[\"val\"].append({\n",
    "                        \"loss\": val_loss, \"rmse\": val_rmse, \"mae\":val_mae, \"step\": global_step\n",
    "                    })\n",
    "                    model.train()\n",
    "\n",
    "                    if early_stop_callback is not None:\n",
    "                        early_stop_callback(-val_rmse)\n",
    "                        if early_stop_callback.early_stop:\n",
    "                            print(f\"Early stop at epoch {epoch_id} / global_step {global_step}\")\n",
    "                            return record_dict\n",
    "                    \n",
    "                # udate step\n",
    "                global_step += 1\n",
    "                pbar.update(1)\n",
    "                pbar.set_postfix({\"epoch\": epoch_id})\n",
    "        \n",
    "    return record_dict"
   ],
   "id": "704c0de2c6c0ddac",
   "outputs": [],
   "execution_count": 367
  },
  {
   "metadata": {
    "ExecuteTime": {
     "end_time": "2025-09-06T10:06:29.493984Z",
     "start_time": "2025-09-06T10:05:08.522402Z"
    }
   },
   "cell_type": "code",
   "source": [
    "epoch = 1000\n",
    "model = TrafficModel(400, 128, 400)\n",
    "loss_fct = loss_fn\n",
    "optimizer = torch.optim.Adam(model.parameters(), lr=1e-3)\n",
    "early_stop_callback = EarlyStopCallback(patience=5)\n",
    "model = model.to(device)\n",
    "record = training(\n",
    "    model,\n",
    "    train_dl,\n",
    "    val_dl,\n",
    "    epoch,\n",
    "    loss_fct,\n",
    "    optimizer,\n",
    "    early_stop_callback=early_stop_callback,\n",
    "    eval_step=500,\n",
    "    flag=True,\n",
    "    )"
   ],
   "id": "4e4f2520b6c4fed2",
   "outputs": [
    {
     "data": {
      "text/plain": [
       "  0%|          | 0/48000 [00:00<?, ?it/s]"
      ],
      "application/vnd.jupyter.widget-view+json": {
       "version_major": 2,
       "version_minor": 0,
       "model_id": "d32d4f7bdc2b4f80a476a624b11632dd"
      }
     },
     "metadata": {},
     "output_type": "display_data"
    },
    {
     "name": "stdout",
     "output_type": "stream",
     "text": [
      "Early stop at epoch 218 / global_step 10500\n"
     ]
    }
   ],
   "execution_count": 368
  },
  {
   "metadata": {
    "ExecuteTime": {
     "end_time": "2025-09-06T10:10:07.664411Z",
     "start_time": "2025-09-06T10:10:07.567644Z"
    }
   },
   "cell_type": "code",
   "source": [
    "step = [i[\"step\"] for i in record[\"train\"]]\n",
    "loss = [i[\"loss\"] for i in record[\"train\"]]\n",
    "plt.plot(step[::500], loss[::500], label=\"train_loss\")\n",
    "plt.plot([i[\"step\"] for i in record[\"val\"]], [i[\"loss\"] for i in record[\"val\"]], label=\"val_loss\")\n",
    "plt.grid()\n",
    "plt.legend()\n",
    "plt.show()"
   ],
   "id": "a762992bca1187d2",
   "outputs": [
    {
     "data": {
      "text/plain": [
       "<Figure size 640x480 with 1 Axes>"
      ],
      "image/png": "[encoded data removed]"
     },
     "metadata": {},
     "output_type": "display_data"
    }
   ],
   "execution_count": 369
  },
  {
   "metadata": {
    "ExecuteTime": {
     "end_time": "2025-09-06T10:10:08.837959Z",
     "start_time": "2025-09-06T10:10:08.739424Z"
    }
   },
   "cell_type": "code",
   "source": [
    "step = [i[\"step\"] for i in record[\"train\"]]\n",
    "rmse = [i[\"rmse\"] for i in record[\"train\"]]\n",
    "plt.plot(step[::500], rmse[::500], label=\"train_rmse\")\n",
    "plt.plot([i[\"step\"] for i in record[\"val\"]], [i[\"rmse\"] for i in record[\"val\"]], label=\"val_rmse\")\n",
    "plt.grid()\n",
    "plt.legend()\n",
    "plt.show()"
   ],
   "id": "c106df1a7bd68a9c",
   "outputs": [
    {
     "data": {
      "text/plain": [
       "<Figure size 640x480 with 1 Axes>"
      ],
      "image/png": "[encoded data removed]"
     },
     "metadata": {},
     "output_type": "display_data"
    }
   ],
   "execution_count": 370
  },
  {
   "metadata": {
    "ExecuteTime": {
     "end_time": "2025-09-06T10:10:09.531926Z",
     "start_time": "2025-09-06T10:10:09.414889Z"
    }
   },
   "cell_type": "code",
   "source": [
    "step = [i[\"step\"] for i in record[\"train\"]]\n",
    "mae = [i[\"mae\"] for i in record[\"train\"]]\n",
    "plt.plot(step[::500], rmse[::500], label=\"train_mae\")\n",
    "plt.plot([i[\"step\"] for i in record[\"val\"]], [i[\"mae\"] for i in record[\"val\"]], label=\"val_mae\")\n",
    "plt.grid()\n",
    "plt.legend()\n",
    "plt.show()"
   ],
   "id": "b95cc0d487a6f637",
   "outputs": [
    {
     "data": {
      "text/plain": [
       "<Figure size 640x480 with 1 Axes>"
      ],
      "image/png": "[encoded data removed]"
     },
     "metadata": {},
     "output_type": "display_data"
    }
   ],
   "execution_count": 371
  },
  {
   "metadata": {
    "ExecuteTime": {
     "end_time": "2025-09-06T10:10:10.641903Z",
     "start_time": "2025-09-06T10:10:10.532917Z"
    }
   },
   "cell_type": "code",
   "source": [
    "model.eval()\n",
    "loss, rmse, mae = evaluating(model, test_dl, loss_fct, False)\n",
    "print(f\"loss:     {loss:.4f}\\nrmse: {rmse:.4f}\\nmae: {mae:.4f}\")"
   ],
   "id": "7ace2c4ec40a0e6e",
   "outputs": [
    {
     "name": "stdout",
     "output_type": "stream",
     "text": [
      "loss:     0.0031\n",
      "rmse: 13.4956\n",
      "mae: 5.1776\n"
     ]
    }
   ],
   "execution_count": 372
  },
  {
   "metadata": {},
   "cell_type": "code",
   "outputs": [],
   "execution_count": null,
   "source": [
    "loss:     5.2763\n",
    "rmse: 13.8539"
   ],
   "id": "8544208e84187b80"
  }
 ],
 "metadata": {
  "kernelspec": {
   "display_name": "Python 3",
   "language": "python",
   "name": "python3"
  },
  "language_info": {
   "codemirror_mode": {
    "name": "ipython",
    "version": 2
   },
   "file_extension": ".py",
   "mimetype": "text/x-python",
   "name": "python",
   "nbconvert_exporter": "python",
   "pygments_lexer": "ipython2",
   "version": "2.7.6"
  }
 },
 "nbformat": 4,
 "nbformat_minor": 5
}
