{
 "cells": [
  {
   "cell_type": "markdown",
   "metadata": {},
   "source": [
    "请将运行结果和图等实验步骤结果保留在jupyter之中"
   ]
  },
  {
   "cell_type": "markdown",
   "metadata": {},
   "source": [
    "## 一、Pytorch基本操作考察"
   ]
  },
  {
   "cell_type": "code",
   "metadata": {
    "ExecuteTime": {
     "end_time": "2025-07-29T03:51:42.821735Z",
     "start_time": "2025-07-29T03:51:42.817200Z"
    }
   },
   "source": [
    "import numpy as np\n",
    "import torch\n",
    "from matplotlib import pyplot as plt \n",
    "import random\n",
    "import torch.nn as nn\n",
    "from torch.utils.data import Dataset, DataLoader, TensorDataset\n",
    "import os\n",
    "import json\n",
    "import torchvision \n",
    "import torchvision.transforms as transforms\n",
    "from torch.utils.data import random_split\n",
    "import torch.nn.functional as F\n",
    "from tqdm import tqdm\n",
    "import pandas as pd\n",
    "from sklearn.metrics import accuracy_score"
   ],
   "outputs": [],
   "execution_count": 14
  },
  {
   "metadata": {},
   "cell_type": "markdown",
   "source": "# 1.1"
  },
  {
   "cell_type": "code",
   "metadata": {
    "ExecuteTime": {
     "end_time": "2025-07-25T09:55:39.047848Z",
     "start_time": "2025-07-25T09:55:39.041767Z"
    }
   },
   "source": [
    "M = torch.rand((1,3))\n",
    "N = torch.rand((2, 1))"
   ],
   "outputs": [],
   "execution_count": 3
  },
  {
   "metadata": {
    "ExecuteTime": {
     "end_time": "2025-07-25T09:55:39.890025Z",
     "start_time": "2025-07-25T09:55:39.874388Z"
    }
   },
   "cell_type": "code",
   "source": [
    "# 第一种方式\n",
    "result1 = M - N\n",
    "print(result1)"
   ],
   "outputs": [
    {
     "name": "stdout",
     "output_type": "stream",
     "text": [
      "tensor([[ 1.7416e-01,  2.0818e-01, -2.8788e-01],\n",
      "        [ 4.6234e-01,  4.9635e-01,  2.9725e-04]])\n"
     ]
    }
   ],
   "execution_count": 4
  },
  {
   "metadata": {
    "ExecuteTime": {
     "end_time": "2025-07-25T09:55:41.352138Z",
     "start_time": "2025-07-25T09:55:41.346747Z"
    }
   },
   "cell_type": "code",
   "source": [
    "# 第二种方式\n",
    "result2 = torch.sub(M, N)\n",
    "print(result2)"
   ],
   "outputs": [
    {
     "name": "stdout",
     "output_type": "stream",
     "text": [
      "tensor([[ 1.7416e-01,  2.0818e-01, -2.8788e-01],\n",
      "        [ 4.6234e-01,  4.9635e-01,  2.9725e-04]])\n"
     ]
    }
   ],
   "execution_count": 5
  },
  {
   "metadata": {
    "ExecuteTime": {
     "end_time": "2025-07-25T09:55:42.568744Z",
     "start_time": "2025-07-25T09:55:42.264891Z"
    }
   },
   "cell_type": "code",
   "source": [
    "# 第三种方式 PyTorch 不允许在原地操作中触发自动广播行为！\n",
    "M.sub_(N)\n",
    "print(M)"
   ],
   "outputs": [
    {
     "ename": "RuntimeError",
     "evalue": "output with shape [1, 3] doesn't match the broadcast shape [2, 3]",
     "output_type": "error",
     "traceback": [
      "\u001B[31m---------------------------------------------------------------------------\u001B[39m",
      "\u001B[31mRuntimeError\u001B[39m                              Traceback (most recent call last)",
      "\u001B[36mCell\u001B[39m\u001B[36m \u001B[39m\u001B[32mIn[6]\u001B[39m\u001B[32m, line 2\u001B[39m\n\u001B[32m      1\u001B[39m \u001B[38;5;66;03m# 第三种方式 PyTorch 不允许在原地操作中触发自动广播行为！\u001B[39;00m\n\u001B[32m----> \u001B[39m\u001B[32m2\u001B[39m \u001B[43mM\u001B[49m\u001B[43m.\u001B[49m\u001B[43msub_\u001B[49m\u001B[43m(\u001B[49m\u001B[43mN\u001B[49m\u001B[43m)\u001B[49m\n\u001B[32m      3\u001B[39m \u001B[38;5;28mprint\u001B[39m(M)\n",
      "\u001B[31mRuntimeError\u001B[39m: output with shape [1, 3] doesn't match the broadcast shape [2, 3]"
     ]
    }
   ],
   "execution_count": 6
  },
  {
   "metadata": {},
   "cell_type": "markdown",
   "source": "# 1.2"
  },
  {
   "metadata": {
    "ExecuteTime": {
     "end_time": "2025-07-25T09:55:48.681724Z",
     "start_time": "2025-07-25T09:55:48.674520Z"
    }
   },
   "cell_type": "code",
   "source": [
    "# 均值为0，标准差为0.01的正态分布\n",
    "mean = 0.0\n",
    "std = 0.01\n",
    "# 创建 P: 形状为 [3, 2]\n",
    "P = torch.normal(mean=mean, std=std, size=(3, 2))\n",
    "# 创建 Q: 形状为 [4, 2]\n",
    "Q = torch.normal(mean=mean, std=std, size=(4, 2))\n",
    "print(\"矩阵P\", P)\n",
    "print(\"矩阵Q\", Q)"
   ],
   "outputs": [
    {
     "name": "stdout",
     "output_type": "stream",
     "text": [
      "矩阵P tensor([[ 0.0173,  0.0038],\n",
      "        [-0.0125, -0.0080],\n",
      "        [-0.0004,  0.0053]])\n",
      "矩阵Q tensor([[-0.0007, -0.0028],\n",
      "        [ 0.0007,  0.0058],\n",
      "        [ 0.0009,  0.0185],\n",
      "        [ 0.0153,  0.0134]])\n"
     ]
    }
   ],
   "execution_count": 7
  },
  {
   "metadata": {
    "ExecuteTime": {
     "end_time": "2025-07-25T09:55:52.963679Z",
     "start_time": "2025-07-25T09:55:52.956390Z"
    }
   },
   "cell_type": "code",
   "source": [
    "# 将Q进行转置\n",
    "Q_T = Q.T\n",
    "result = torch.mm(P, Q_T)\n",
    "print(result)"
   ],
   "outputs": [
    {
     "name": "stdout",
     "output_type": "stream",
     "text": [
      "tensor([[-2.2938e-05,  3.3762e-05,  8.6260e-05,  3.1488e-04],\n",
      "        [ 3.1158e-05, -5.4277e-05, -1.5859e-04, -2.9678e-04],\n",
      "        [-1.4601e-05,  3.0186e-05,  9.7705e-05,  6.5155e-05]])\n"
     ]
    }
   ],
   "execution_count": 8
  },
  {
   "metadata": {},
   "cell_type": "markdown",
   "source": "# 1.3"
  },
  {
   "metadata": {
    "ExecuteTime": {
     "end_time": "2025-07-25T09:55:55.131796Z",
     "start_time": "2025-07-25T09:55:55.125076Z"
    }
   },
   "cell_type": "code",
   "source": [
    "x = torch.tensor(1.0, requires_grad=True)\n",
    "print(x)"
   ],
   "outputs": [
    {
     "name": "stdout",
     "output_type": "stream",
     "text": [
      "tensor(1., requires_grad=True)\n"
     ]
    }
   ],
   "execution_count": 9
  },
  {
   "metadata": {
    "ExecuteTime": {
     "end_time": "2025-07-25T09:55:56.094661Z",
     "start_time": "2025-07-25T09:55:56.077231Z"
    }
   },
   "cell_type": "code",
   "source": [
    "y1 = x**2\n",
    "print(y1)\n",
    "with torch.no_grad():\n",
    "    y2 = x**3\n",
    "y3 = y1 + y2"
   ],
   "outputs": [
    {
     "name": "stdout",
     "output_type": "stream",
     "text": [
      "tensor(1., grad_fn=<PowBackward0>)\n"
     ]
    }
   ],
   "execution_count": 10
  },
  {
   "metadata": {
    "ExecuteTime": {
     "end_time": "2025-07-25T09:55:56.941779Z",
     "start_time": "2025-07-25T09:55:56.931809Z"
    }
   },
   "cell_type": "code",
   "source": [
    "if x.grad is not None:\n",
    "    x.grad.zero_()\n",
    "y3.backward(retain_graph=True) # 每次计算完梯度后会自动释放计算图retain_graph可以重复求导\n",
    "print(x.grad)"
   ],
   "outputs": [
    {
     "name": "stdout",
     "output_type": "stream",
     "text": [
      "tensor(2.)\n"
     ]
    }
   ],
   "execution_count": 11
  },
  {
   "cell_type": "markdown",
   "metadata": {},
   "source": [
    "## 二、动手实现 logistic 回归"
   ]
  },
  {
   "metadata": {},
   "cell_type": "markdown",
   "source": "# 2.1"
  },
  {
   "cell_type": "code",
   "metadata": {
    "ExecuteTime": {
     "end_time": "2025-07-29T08:07:02.497970Z",
     "start_time": "2025-07-29T08:07:02.484673Z"
    }
   },
   "source": [
    "# 生成数据\n",
    "num_inputs = 2\n",
    "num_examples = 20000\n",
    "true_w = [2, -3.4]\n",
    "true_b = 4.2\n",
    "features = torch.tensor(np.random.normal(0, 1, (num_examples, num_inputs)), dtype=torch.float)\n",
    "labels = true_w[0] * features[:, 0] + true_w[1] * features[:, 1] + true_b\n",
    "# labels += torch.tensor(np.random.normal(0, 0.01, size=labels.size()), dtype=torch.float)"
   ],
   "outputs": [],
   "execution_count": 166
  },
  {
   "metadata": {
    "ExecuteTime": {
     "end_time": "2025-07-29T08:07:02.996662Z",
     "start_time": "2025-07-29T08:07:02.979160Z"
    }
   },
   "cell_type": "code",
   "source": [
    "from sklearn.model_selection import train_test_split\n",
    "\n",
    "# 分割训练集和临时集（验证+测试集）\n",
    "X_train, X_temp, y_train, y_temp = train_test_split(features, labels, test_size=0.4,  random_state=42)\n",
    "\n",
    "# 分割验证集和测试集\n",
    "X_val, X_test, y_val, y_test = train_test_split(X_temp, y_temp, test_size=0.5, random_state=42)"
   ],
   "outputs": [],
   "execution_count": 167
  },
  {
   "metadata": {
    "ExecuteTime": {
     "end_time": "2025-07-29T06:37:01.517537Z",
     "start_time": "2025-07-29T06:37:01.511727Z"
    }
   },
   "cell_type": "code",
   "source": "print(X_train.shape, X_val.shape, X_test.shape, y_train.shape, y_val.shape, y_test.shape)",
   "outputs": [
    {
     "name": "stdout",
     "output_type": "stream",
     "text": [
      "torch.Size([12000, 2]) torch.Size([4000, 2]) torch.Size([4000, 2]) torch.Size([12000]) torch.Size([4000]) torch.Size([4000])\n"
     ]
    }
   ],
   "execution_count": 144
  },
  {
   "metadata": {
    "ExecuteTime": {
     "end_time": "2025-07-29T06:37:03.613734Z",
     "start_time": "2025-07-29T06:37:03.606506Z"
    }
   },
   "cell_type": "code",
   "source": [
    "# # 分割数据\n",
    "# indices = np.random.permutation(num_examples)\n",
    "# train_size = int(0.6 * num_examples)\n",
    "# val_size = int(0.2 * num_examples)\n",
    "# X_train, y_train = features[indices[:train_size]], labels[indices[:train_size]]\n",
    "# X_val, y_val = features[indices[train_size:train_size+val_size]], labels[indices[train_size:train_size+val_size]]\n",
    "# X_test, y_test = features[indices[train_size+val_size:]], labels[indices[train_size+val_size:]]"
   ],
   "outputs": [],
   "execution_count": 145
  },
  {
   "cell_type": "code",
   "metadata": {
    "ExecuteTime": {
     "end_time": "2025-07-29T06:37:04.023985Z",
     "start_time": "2025-07-29T06:37:04.018441Z"
    }
   },
   "source": [
    "num_inputs = 2\n",
    "def data_loader(batch_size, features, labels):\n",
    "    num_examples = len(features)\n",
    "    indices = list(range(num_examples))\n",
    "    random.shuffle(indices)  # 样本的读取顺序是随机的\n",
    "    for i in range(0, num_examples, batch_size):\n",
    "        j = torch.LongTensor(indices[i: min(i + batch_size, num_examples)]) # 最后一次可能不足一个batch  充当索引必须使用LongTensor\n",
    "        yield  features.index_select(0, j), labels.index_select(0, j)"
   ],
   "outputs": [],
   "execution_count": 146
  },
  {
   "metadata": {
    "ExecuteTime": {
     "end_time": "2025-07-29T06:37:04.374877Z",
     "start_time": "2025-07-29T06:37:04.366460Z"
    }
   },
   "cell_type": "code",
   "source": [
    "def sigmoid(z):\n",
    "    return 1 / (1 + torch.exp(-z))"
   ],
   "outputs": [],
   "execution_count": 147
  },
  {
   "metadata": {
    "ExecuteTime": {
     "end_time": "2025-07-29T06:37:04.595389Z",
     "start_time": "2025-07-29T06:37:04.587546Z"
    }
   },
   "cell_type": "code",
   "source": [
    "# 构建模型\n",
    "w = torch.tensor(np.random.normal(0, 0.01, (num_inputs, 1)), dtype=torch.float32,requires_grad=True)\n",
    "b = torch.zeros(1, dtype=torch.float32, requires_grad=True)\n",
    "def linreg(X, w, b):\n",
    "    return torch.mm(X, w) + b"
   ],
   "outputs": [],
   "execution_count": 148
  },
  {
   "metadata": {
    "ExecuteTime": {
     "end_time": "2025-07-29T06:37:04.790219Z",
     "start_time": "2025-07-29T06:37:04.786212Z"
    }
   },
   "cell_type": "code",
   "source": [
    "# 定义损失函数\n",
    "def loss_square(y, y_hat):\n",
    "    return (y - y_hat.view_as(y)).pow(2).mean()\n",
    "\n",
    "# 定义优化算法\n",
    "def sgd(params, lr, batch_size):\n",
    "    for param in params:\n",
    "        param.data -= lr * param.grad / batch_size # 注意这里更改param时用的param.data\n"
   ],
   "outputs": [],
   "execution_count": 149
  },
  {
   "metadata": {
    "ExecuteTime": {
     "end_time": "2025-07-29T06:37:04.959906Z",
     "start_time": "2025-07-29T06:37:04.949236Z"
    }
   },
   "cell_type": "code",
   "source": [
    "# 模型早停\n",
    "class EarlyStopCallback:\n",
    "    def __init__(self, patience=5, min_delta=0.0001):\n",
    "        self.patience = patience\n",
    "        self.min_delta = min_delta\n",
    "        self.best_metric = - np.inf\n",
    "        self.counter = 0\n",
    "\n",
    "    def __call__(self, metric):\n",
    "        if metric >= self.best_metric + self.min_delta:\n",
    "            # update best metric\n",
    "            self.best_metric = metric\n",
    "            # reset counter\n",
    "            self.counter = 0\n",
    "        else:\n",
    "            self.counter += 1\n",
    "\n",
    "    @property\n",
    "    def early_stop(self):\n",
    "        return self.counter >= self.patience\n"
   ],
   "outputs": [],
   "execution_count": 150
  },
  {
   "metadata": {
    "ExecuteTime": {
     "end_time": "2025-07-29T06:37:05.130346Z",
     "start_time": "2025-07-29T06:37:05.116478Z"
    }
   },
   "cell_type": "code",
   "source": [
    "# 保存最好模型\n",
    "class SaveCheckpointsCallback2:\n",
    "    def __init__(self, save_dir, save_step=10, save_best_only=True):\n",
    "        self.save_dir = save_dir\n",
    "        self.save_step = save_step\n",
    "        self.save_best_only = save_best_only\n",
    "        self.best_metrics = - np.inf\n",
    "\n",
    "        # mkdir\n",
    "        if not os.path.exists(self.save_dir):\n",
    "            os.mkdir(self.save_dir)\n",
    "\n",
    "    def __call__(self, step, state_dict, metric=None):\n",
    "        if step % self.save_step > 0:\n",
    "            return\n",
    "\n",
    "        if self.save_best_only:\n",
    "            assert metric is not None\n",
    "            if metric >= self.best_metrics:\n",
    "                # save checkpoints\n",
    "               # 写入文件\n",
    "                with open(os.path.join(self.save_dir, \"best.json\"), 'w', encoding='utf-8') as f:\n",
    "                    json.dump(state_dict, f, indent=4)  # indent 使格式美观\n",
    "                # update best metrics\n",
    "                self.best_metrics = metric\n",
    "        else:\n",
    "            torch.save(state_dict, os.path.join(self.save_dir, f\"{step}.ckpt\"))\n",
    "\n"
   ],
   "outputs": [],
   "execution_count": 151
  },
  {
   "metadata": {
    "ExecuteTime": {
     "end_time": "2025-07-29T06:37:05.314928Z",
     "start_time": "2025-07-29T06:37:05.306654Z"
    }
   },
   "cell_type": "code",
   "source": [
    "@torch.no_grad()\n",
    "def evaluating2(model, dataloader, loss_fct):\n",
    "    loss_list = []\n",
    "    pred_list = []\n",
    "    label_list = []\n",
    "    for datas, labels in dataloader:\n",
    "        # 前向计算\n",
    "        logits = model(datas, w, b)              # 验证集预测\n",
    "        loss = loss_fct(logits, labels)         # 验证集损失\n",
    "        loss_list.append(loss.item()) # 将验证集损失加入列表\n",
    "        \n",
    "        pred_list.extend(logits.cpu().numpy().tolist()) # 将验证集预测结果加入列表\n",
    "        label_list.extend(labels.cpu().numpy().tolist())# 将验证集真实标签加入列表\n",
    "        \n",
    "    acc = accuracy_score(np.round(label_list * 100).astype(int), np.round(pred_list * 100).astype(int)) # 计算验证集准确率\n",
    "    return np.mean(loss_list), acc # 返回验证集损失均值和准确率"
   ],
   "outputs": [],
   "execution_count": 152
  },
  {
   "metadata": {
    "ExecuteTime": {
     "end_time": "2025-07-29T06:37:12.025958Z",
     "start_time": "2025-07-29T06:37:05.476600Z"
    }
   },
   "cell_type": "code",
   "source": [
    "epoch = 20\n",
    "lr = 0.1\n",
    "# 模型早停\n",
    "early_stop_callback = EarlyStopCallback()\n",
    "# 保存最好的参数\n",
    "exp_name = \"linear\"\n",
    "if not os.path.exists(\"checkpoints\"):\n",
    "    os.makedirs(\"checkpoints\")\n",
    "save_ckpt_callback = SaveCheckpointsCallback2(\n",
    "    f\"checkpoints/{exp_name}\", save_step=10, save_best_only=True)\n",
    "def training(epoch=10, lr=0.01, save_ckpt_callback=None, early_stop_callback=None, eval_step=100):\n",
    "    global_step = 1\n",
    "    record_dict = {\n",
    "        \"train\":[],\n",
    "        \"val\":[]\n",
    "    }\n",
    "    with tqdm(total=epoch * len(X_train) / batch_size) as pbar:\n",
    "        for epoch_id in range(epoch):\n",
    "            for x, y in data_loader(batch_size=32, features = X_train, labels = y_train):\n",
    "                y_hat = linreg(x, w, b)\n",
    "                loss = loss_square(y_hat, y)\n",
    "                loss.backward()  # 梯度回传的\n",
    "                sgd([w, b], lr, 32)\n",
    "                w.grad.zero_()\n",
    "                b.grad.zero_()\n",
    "                y_true = np.round(y.detach().cpu().numpy() * 100).astype(int)\n",
    "                y_pred = np.round(y_hat.detach().cpu().numpy() * 100).astype(int)\n",
    "                acc = accuracy_score(y_true, y_pred)   \n",
    "                # record\n",
    "                record_dict[\"train\"].append({\n",
    "                    \"loss\": loss.detach().numpy(), \"acc\":acc ,\"step\": global_step\n",
    "                })\n",
    "                \n",
    "                if global_step % eval_step == 0:\n",
    "                    val_loss, val_acc = evaluating2(linreg, data_loader(batch_size=32, features = X_val, labels = y_val), loss_square)\n",
    "                    record_dict[\"val\"].append({\n",
    "                        \"loss\": val_loss, \"acc\": val_acc, \"step\": global_step\n",
    "                    })\n",
    "                    save_ckpt_callback(global_step, {'w':w.tolist(), 'b':b.tolist()}, metric=-loss)\n",
    "                    early_stop_callback(-loss)\n",
    "                    if early_stop_callback.early_stop:\n",
    "                        print(f\"Early stop at epoch {epoch_id} / global_step {global_step}\")\n",
    "                        return record_dict\n",
    "                global_step += 1\n",
    "                pbar.update(1)\n",
    "                pbar.set_postfix({\"epoch\": epoch_id})\n",
    "    return  record_dict\n",
    "record = training(epoch=epoch, lr=lr, save_ckpt_callback=save_ckpt_callback, early_stop_callback=early_stop_callback)"
   ],
   "outputs": [
    {
     "name": "stderr",
     "output_type": "stream",
     "text": [
      " 24%|██▍       | 1799/7500.0 [00:06<00:20, 275.31it/s, epoch=4]"
     ]
    },
    {
     "name": "stdout",
     "output_type": "stream",
     "text": [
      "Early stop at epoch 4 / global_step 1800\n"
     ]
    },
    {
     "name": "stderr",
     "output_type": "stream",
     "text": [
      "\n"
     ]
    }
   ],
   "execution_count": 153
  },
  {
   "metadata": {
    "ExecuteTime": {
     "end_time": "2025-07-29T06:37:14.784066Z",
     "start_time": "2025-07-29T06:37:14.686834Z"
    }
   },
   "cell_type": "code",
   "source": [
    "plt.plot([i[\"step\"] for i in record[\"train\"]], [i[\"loss\"] for i in record[\"train\"]], label=\"train\")\n",
    "plt.plot([i[\"step\"] for i in record[\"val\"]], [i[\"loss\"] for i in record[\"val\"]], label=\"val\")\n",
    "plt.grid()\n",
    "plt.legend()\n",
    "plt.show()"
   ],
   "outputs": [
    {
     "data": {
      "text/plain": [
       "<Figure size 640x480 with 1 Axes>"
      ],
      "image/png": "[encoded data removed]"
     },
     "metadata": {},
     "output_type": "display_data"
    }
   ],
   "execution_count": 154
  },
  {
   "metadata": {
    "ExecuteTime": {
     "end_time": "2025-07-29T06:37:17.884808Z",
     "start_time": "2025-07-29T06:37:17.786762Z"
    }
   },
   "cell_type": "code",
   "source": [
    "plt.plot([i[\"step\"] for i in record[\"train\"]], [i[\"acc\"] for i in record[\"train\"]], label=\"train\")\n",
    "plt.plot([i[\"step\"] for i in record[\"val\"]], [i[\"acc\"] for i in record[\"val\"]], label=\"val\")\n",
    "plt.grid()\n",
    "plt.legend()\n",
    "plt.show()"
   ],
   "outputs": [
    {
     "data": {
      "text/plain": [
       "<Figure size 640x480 with 1 Axes>"
      ],
      "image/png": "[encoded data removed]"
     },
     "metadata": {},
     "output_type": "display_data"
    }
   ],
   "execution_count": 155
  },
  {
   "metadata": {
    "ExecuteTime": {
     "end_time": "2025-07-29T06:37:27.743835Z",
     "start_time": "2025-07-29T06:37:27.597229Z"
    }
   },
   "cell_type": "code",
   "source": [
    "loss, acc = evaluating2(linreg, data_loader(batch_size=32, features = X_test, labels = y_test), loss_square)\n",
    "print(f\"loss:     {loss:.4f}\\naccuracy: {acc:.4f}\")\n"
   ],
   "outputs": [
    {
     "name": "stdout",
     "output_type": "stream",
     "text": [
      "loss:     0.0000\n",
      "accuracy: 1.0000\n"
     ]
    }
   ],
   "execution_count": 156
  },
  {
   "metadata": {},
   "cell_type": "markdown",
   "source": "# 2.2"
  },
  {
   "metadata": {
    "ExecuteTime": {
     "end_time": "2025-07-29T08:07:09.610203Z",
     "start_time": "2025-07-29T08:07:09.605031Z"
    }
   },
   "cell_type": "code",
   "source": [
    "# 加载数据\n",
    "batch_size = 32\n",
    "train_ds = TensorDataset(X_train, y_train)\n",
    "train_dl = DataLoader(train_ds, batch_size=batch_size, shuffle=True)\n",
    "val_ds = TensorDataset(X_val, y_val)\n",
    "val_dl = DataLoader(val_ds, batch_size=batch_size, shuffle=True)\n",
    "test_ds = TensorDataset(X_test, y_test)\n",
    "test_dl = DataLoader(test_ds, batch_size=batch_size, shuffle=True)"
   ],
   "outputs": [],
   "execution_count": 168
  },
  {
   "metadata": {
    "ExecuteTime": {
     "end_time": "2025-07-29T08:07:10.183621Z",
     "start_time": "2025-07-29T08:07:10.177185Z"
    }
   },
   "cell_type": "code",
   "source": [
    "for X,y in val_dl:\n",
    "    print(X.shape)\n",
    "    break"
   ],
   "outputs": [
    {
     "name": "stdout",
     "output_type": "stream",
     "text": [
      "torch.Size([32, 2])\n"
     ]
    }
   ],
   "execution_count": 169
  },
  {
   "metadata": {
    "ExecuteTime": {
     "end_time": "2025-07-29T08:07:11.157145Z",
     "start_time": "2025-07-29T08:07:11.149992Z"
    }
   },
   "cell_type": "code",
   "source": [
    "class LinearNet(nn.Module):\n",
    "    def __init__(self, n_feature):\n",
    "        super().__init__()\n",
    "        self.linear = nn.Linear(n_feature, 1)\n",
    "        self.init_weights()\n",
    "    \n",
    "    \n",
    "    def init_weights(self):\n",
    "        \"\"\"使用 xavier 均匀分布来初始化全连接层、卷积层的权重 W\"\"\"\n",
    "        for m in self.modules():\n",
    "            if isinstance(m, nn.Linear):\n",
    "                nn.init.xavier_uniform_(m.weight)\n",
    "                nn.init.zeros_(m.bias)\n",
    "\n",
    "    \n",
    "    def forward(self, x):\n",
    "        return self.linear(x)"
   ],
   "outputs": [],
   "execution_count": 170
  },
  {
   "metadata": {
    "ExecuteTime": {
     "end_time": "2025-07-29T08:07:11.817723Z",
     "start_time": "2025-07-29T08:07:11.804781Z"
    }
   },
   "cell_type": "code",
   "source": [
    "class SaveCheckpointsCallback:\n",
    "    def __init__(self, save_dir, save_step=100, save_best_only=True):\n",
    "        self.save_dir = save_dir\n",
    "        self.save_step = save_step\n",
    "        self.save_best_only = save_best_only\n",
    "        self.best_metrics = -1\n",
    "        \n",
    "        # mkdir\n",
    "        if not os.path.exists(self.save_dir):\n",
    "            os.mkdir(self.save_dir)\n",
    "        \n",
    "    def __call__(self, step, state_dict, metric=None):\n",
    "        if step % self.save_step > 0:\n",
    "            return\n",
    "        \n",
    "        if self.save_best_only:\n",
    "            assert metric is not None\n",
    "            if metric >= self.best_metrics:\n",
    "                # save checkpoints\n",
    "                torch.save(state_dict, os.path.join(self.save_dir, \"best.ckpt\"))\n",
    "                # update best metrics\n",
    "                self.best_metrics = metric\n",
    "        else:\n",
    "            torch.save(state_dict, os.path.join(self.save_dir, f\"{step}.ckpt\"))\n",
    "\n"
   ],
   "outputs": [],
   "execution_count": 171
  },
  {
   "metadata": {
    "ExecuteTime": {
     "end_time": "2025-07-29T08:07:12.247418Z",
     "start_time": "2025-07-29T08:07:12.235001Z"
    }
   },
   "cell_type": "code",
   "source": [
    "@torch.no_grad()\n",
    "def evaluating(model, dataloader, loss_fct):\n",
    "    loss_list = []\n",
    "    pred_list = []\n",
    "    label_list = []\n",
    "    for datas, labels in dataloader:\n",
    "        # 前向计算\n",
    "        logits = model(datas)              # 验证集预测\n",
    "        loss = loss_fct(logits, labels.view(-1, 1))         # 验证集损失\n",
    "        loss_list.append(loss.item()) # 将验证集损失加入列表\n",
    "        \n",
    "        pred_list.extend(logits.cpu().numpy().tolist()) # 将验证集预测结果加入列表\n",
    "        label_list.extend(labels.cpu().numpy().tolist())# 将验证集真实标签加入列表\n",
    "        \n",
    "    acc = accuracy_score(np.round(label_list * 100).astype(int), np.round(pred_list * 100).astype(int)) # 计算验证集准确率\n",
    "    return np.mean(loss_list), acc # 返回验证集损失均值和准确率"
   ],
   "outputs": [],
   "execution_count": 172
  },
  {
   "metadata": {
    "ExecuteTime": {
     "end_time": "2025-07-29T08:07:12.868515Z",
     "start_time": "2025-07-29T08:07:12.855506Z"
    }
   },
   "cell_type": "code",
   "source": [
    "def training(epoch, train_dl, val_dl, model, loss_fn, optimizer, save_ckpt_callback=None,\n",
    "    early_stop_callback=None, eval_step = 100):\n",
    "    record_dict = {\n",
    "        \"train\":[],\n",
    "        \"val\":[]\n",
    "    }\n",
    "    global_step = 1\n",
    "    model.train()\n",
    "    with tqdm(total=epoch * len(train_dl)) as pbar:\n",
    "        for epoch_id in range(epoch):\n",
    "            for x, y in train_dl:\n",
    "                # 梯度清空\n",
    "                optimizer.zero_grad()\n",
    "                y_hat = model(x)\n",
    "                loss = loss_fn(y_hat, y.view(-1, 1))\n",
    "\n",
    "                loss.backward()\n",
    "                optimizer.step()\n",
    "                \n",
    "                y_true = np.round(y.detach().cpu().numpy() * 100).astype(int)\n",
    "                y_pred = np.round(y_hat.detach().cpu().numpy() * 100).astype(int)\n",
    "                acc = accuracy_score(y_true, y_pred)   \n",
    "                # record\n",
    "                record_dict[\"train\"].append({\n",
    "                    \"loss\": loss.cpu().item(), \"acc\":acc ,\"step\": global_step\n",
    "                })\n",
    "                        \n",
    "                if global_step % eval_step == 0:\n",
    "                    model.eval()\n",
    "                    val_loss, val_acc = evaluating(model, val_dl, loss_fn)\n",
    "                    record_dict[\"val\"].append({\n",
    "                        \"loss\": val_loss, \"acc\": val_acc, \"step\": global_step\n",
    "                    })\n",
    "                    model.train()\n",
    "                    if save_ckpt_callback is not None:\n",
    "                         save_ckpt_callback(global_step, model.state_dict(), metric=val_acc)\n",
    "                    \n",
    "                    if early_stop_callback is not None:\n",
    "                        early_stop_callback(val_acc)\n",
    "                        if early_stop_callback.early_stop:\n",
    "                            print(f\"Early stop at epoch {epoch_id} / global_step {global_step}\")\n",
    "                            return record_dict\n",
    "                \n",
    "                global_step += 1\n",
    "                pbar.update(1)\n",
    "                pbar.set_postfix({\"epoch\": epoch_id})\n",
    "        \n",
    "    return record_dict\n",
    "\n",
    "\n",
    "epoch = 30\n",
    "model = LinearNet(2)\n",
    "loss_fn = nn.MSELoss()\n",
    "optimizer = torch.optim.SGD(model.parameters(), lr=0.01, momentum=0.9)\n",
    "# save best\n",
    "exp_name = \"linear\"\n",
    "if not os.path.exists(\"checkpoints\"):\n",
    "    os.makedirs(\"checkpoints\")\n",
    "save_ckpt_callback = SaveCheckpointsCallback(f\"checkpoints/{exp_name}\", save_best_only=True)\n",
    "# early stop\n",
    "early_stop_callback = EarlyStopCallback(patience=5)"
   ],
   "outputs": [],
   "execution_count": 173
  },
  {
   "metadata": {
    "ExecuteTime": {
     "end_time": "2025-07-29T08:07:18.460945Z",
     "start_time": "2025-07-29T08:07:13.985080Z"
    }
   },
   "cell_type": "code",
   "source": "record = training(epoch=epoch, train_dl=train_dl, val_dl = val_dl, model=model, loss_fn=loss_fn, optimizer=optimizer, save_ckpt_callback=save_ckpt_callback, early_stop_callback=early_stop_callback)",
   "outputs": [
    {
     "name": "stderr",
     "output_type": "stream",
     "text": [
      "  7%|▋         | 799/11250 [00:04<00:58, 179.14it/s, epoch=2]"
     ]
    },
    {
     "name": "stdout",
     "output_type": "stream",
     "text": [
      "Early stop at epoch 2 / global_step 800\n"
     ]
    },
    {
     "name": "stderr",
     "output_type": "stream",
     "text": [
      "\n"
     ]
    }
   ],
   "execution_count": 174
  },
  {
   "metadata": {
    "ExecuteTime": {
     "end_time": "2025-07-29T08:07:20.979511Z",
     "start_time": "2025-07-29T08:07:20.871529Z"
    }
   },
   "cell_type": "code",
   "source": [
    "plt.plot([i[\"step\"] for i in record[\"train\"]], [i[\"loss\"] for i in record[\"train\"]], label=\"train\")\n",
    "plt.plot([i[\"step\"] for i in record[\"val\"]], [i[\"loss\"] for i in record[\"val\"]], label=\"val\")\n",
    "plt.grid()\n",
    "plt.legend()\n",
    "plt.show()"
   ],
   "outputs": [
    {
     "data": {
      "text/plain": [
       "<Figure size 640x480 with 1 Axes>"
      ],
      "image/png": "[encoded data removed]"
     },
     "metadata": {},
     "output_type": "display_data"
    }
   ],
   "execution_count": 175
  },
  {
   "metadata": {
    "ExecuteTime": {
     "end_time": "2025-07-29T08:07:22.045566Z",
     "start_time": "2025-07-29T08:07:21.925291Z"
    }
   },
   "cell_type": "code",
   "source": [
    "plt.plot([i[\"step\"] for i in record[\"train\"]], [i[\"acc\"] for i in record[\"train\"]], label=\"train\")\n",
    "plt.plot([i[\"step\"] for i in record[\"val\"]], [i[\"acc\"] for i in record[\"val\"]], label=\"val\")\n",
    "plt.grid()\n",
    "plt.legend()\n",
    "plt.show()"
   ],
   "outputs": [
    {
     "data": {
      "text/plain": [
       "<Figure size 640x480 with 1 Axes>"
      ],
      "image/png": "[encoded data removed]"
     },
     "metadata": {},
     "output_type": "display_data"
    }
   ],
   "execution_count": 176
  },
  {
   "cell_type": "markdown",
   "metadata": {},
   "source": "## 三、动手实现 softmax 回归"
  },
  {
   "cell_type": "code",
   "metadata": {
    "ExecuteTime": {
     "end_time": "2025-07-29T08:31:44.434169Z",
     "start_time": "2025-07-29T08:31:44.397146Z"
    }
   },
   "source": [
    "train_ds = torchvision.datasets.FashionMNIST(root='./Datasets/FashionMNIST', train=True, download=True, transform=transforms.ToTensor())\n",
    "test_ds = torchvision.datasets.FashionMNIST(root='./Datasets/FashionMNIST', train=False, download=True, transform=transforms.ToTensor())"
   ],
   "outputs": [],
   "execution_count": 197
  },
  {
   "cell_type": "code",
   "metadata": {
    "ExecuteTime": {
     "end_time": "2025-07-29T08:31:44.797341Z",
     "start_time": "2025-07-29T08:31:44.790372Z"
    }
   },
   "source": [
    "seed = 17\n",
    "train_ds, val_ds = random_split(train_ds, [55000, 5000], torch.Generator().manual_seed(seed))"
   ],
   "outputs": [],
   "execution_count": 198
  },
  {
   "metadata": {
    "ExecuteTime": {
     "end_time": "2025-07-29T08:31:45.275387Z",
     "start_time": "2025-07-29T08:31:45.266443Z"
    }
   },
   "cell_type": "code",
   "source": [
    "batch_size = 55\n",
    "train_dl = DataLoader(train_ds, batch_size=batch_size, shuffle=True)\n",
    "val_dl = DataLoader(val_ds, batch_size=batch_size, shuffle=True)\n",
    "test_dl = DataLoader(test_ds, batch_size=batch_size, shuffle=True)"
   ],
   "outputs": [],
   "execution_count": 199
  },
  {
   "metadata": {
    "ExecuteTime": {
     "end_time": "2025-07-29T08:31:45.741585Z",
     "start_time": "2025-07-29T08:31:45.736453Z"
    }
   },
   "cell_type": "code",
   "source": [
    "def softmax(logits):\n",
    "    # 减去最大值（防止指数爆炸）\n",
    "    max_logits = torch.max(logits, dim=-1, keepdim=True).values  # 形状: (32, 1)\n",
    "    shifted_logits = logits - max_logits  # 形状: (32, 10)\n",
    "    \n",
    "    exp_logits = torch.exp(shifted_logits)\n",
    "    sum_exp = torch.sum(exp_logits, dim=-1, keepdim=True)\n",
    "    probs = exp_logits / sum_exp\n",
    "    return probs"
   ],
   "outputs": [],
   "execution_count": 200
  },
  {
   "metadata": {
    "ExecuteTime": {
     "end_time": "2025-07-29T08:31:46.347768Z",
     "start_time": "2025-07-29T08:31:46.340824Z"
    }
   },
   "cell_type": "code",
   "source": [
    "from sklearn.metrics import accuracy_score\n",
    "\n",
    "@torch.no_grad()\n",
    "def evaluating3(model, dataloader, loss_fct):\n",
    "    loss_list = []\n",
    "    pred_list = []\n",
    "    label_list = []\n",
    "    for datas, labels in dataloader:\n",
    "        # 前向计算\n",
    "        logits = model(datas)              # 验证集预测\n",
    "        logits = softmax(logits)\n",
    "        loss = loss_fct(logits, labels)         # 验证集损失\n",
    "        loss_list.append(loss.item()) # 将验证集损失加入列表\n",
    "        \n",
    "        preds = logits.argmax(axis=-1)    # 验证集预测\n",
    "        pred_list.extend(preds.cpu().numpy().tolist()) # 将验证集预测结果加入列表\n",
    "        label_list.extend(labels.cpu().numpy().tolist())# 将验证集真实标签加入列表\n",
    "        \n",
    "    acc = accuracy_score(label_list, pred_list) # 计算验证集准确率\n",
    "    return np.mean(loss_list), acc # 返回验证集损失均值和准确率\n"
   ],
   "outputs": [],
   "execution_count": 201
  },
  {
   "metadata": {
    "ExecuteTime": {
     "end_time": "2025-07-29T08:41:26.635579Z",
     "start_time": "2025-07-29T08:41:26.626985Z"
    }
   },
   "cell_type": "code",
   "source": [
    "from sklearn.metrics import accuracy_score\n",
    "\n",
    "@torch.no_grad()\n",
    "def evaluating4(model, dataloader, loss_fct):\n",
    "    loss_list = []\n",
    "    pred_list = []\n",
    "    label_list = []\n",
    "    for datas, labels in dataloader:\n",
    "        # 前向计算\n",
    "        logits = model(datas)              # 验证集预测\n",
    "        loss = loss_fct(logits, labels)         # 验证集损失\n",
    "        loss_list.append(loss.item()) # 将验证集损失加入列表\n",
    "        \n",
    "        preds = logits.argmax(axis=-1)    # 验证集预测\n",
    "        pred_list.extend(preds.cpu().numpy().tolist()) # 将验证集预测结果加入列表\n",
    "        label_list.extend(labels.cpu().numpy().tolist())# 将验证集真实标签加入列表\n",
    "        \n",
    "    acc = accuracy_score(label_list, pred_list) # 计算验证集准确率\n",
    "    return np.mean(loss_list), acc # 返回验证集损失均值和准确率\n"
   ],
   "outputs": [],
   "execution_count": 215
  },
  {
   "metadata": {
    "ExecuteTime": {
     "end_time": "2025-07-29T08:31:46.815429Z",
     "start_time": "2025-07-29T08:31:46.809076Z"
    }
   },
   "cell_type": "code",
   "source": [
    "# 交叉熵损失函数\n",
    "def cross_entropy(pred, label):\n",
    "    if label.dim() == 1:\n",
    "        label = F.one_hot(label, num_classes=10).float()\n",
    "    \n",
    "    loss = - (label * torch.log(pred)).sum(dim=1).mean()\n",
    "    return loss\n"
   ],
   "outputs": [],
   "execution_count": 202
  },
  {
   "metadata": {
    "ExecuteTime": {
     "end_time": "2025-07-29T08:31:47.289822Z",
     "start_time": "2025-07-29T08:31:47.283975Z"
    }
   },
   "cell_type": "code",
   "source": [
    "class MnistNet(nn.Module):\n",
    "    def __init__(self, num_features):\n",
    "        super().__init__()\n",
    "        self.sequential = nn.Sequential(\n",
    "            nn.Flatten(),\n",
    "            nn.Linear(num_features, 392),\n",
    "            nn.ReLU(),\n",
    "            nn.Linear(392, 256),\n",
    "            nn.ReLU(),\n",
    "            nn.Linear(256, 128),\n",
    "            nn.ReLU(),\n",
    "            nn.Linear(128, 64),\n",
    "            nn.ReLU(),\n",
    "            nn.Linear(64, 32),\n",
    "            nn.ReLU(),\n",
    "            nn.Linear(32, 10)\n",
    "        )\n",
    "        self.init_weight()\n",
    "    \n",
    "    \n",
    "    def init_weight(self):\n",
    "        for m in self.modules():\n",
    "            if isinstance(m, nn.Linear):\n",
    "                nn.init.xavier_uniform_(m.weight)\n",
    "                nn.init.zeros_(m.bias)\n",
    "                \n",
    "                \n",
    "    def forward(self, x):\n",
    "        return self.sequential(x)"
   ],
   "outputs": [],
   "execution_count": 203
  },
  {
   "metadata": {
    "ExecuteTime": {
     "end_time": "2025-07-29T08:31:47.926571Z",
     "start_time": "2025-07-29T08:31:47.916741Z"
    }
   },
   "cell_type": "code",
   "source": [
    "def training(epoch, train_dl, val_dl, optimizer,  model, loss_fn, save_ckpt_callback=None, early_stop_callback=None,eval_step=500):\n",
    "    model.train()\n",
    "    record_dict = {\n",
    "        \"train\": [],\n",
    "        \"val\":[]\n",
    "    }\n",
    "    \n",
    "    global_step = 0\n",
    "    with tqdm(total=epoch * len(train_dl)) as pbar:\n",
    "        for epoch_id in range(epoch):\n",
    "            for data, label in train_dl:\n",
    "                optimizer.zero_grad()\n",
    "                logits=model(data)\n",
    "                logits = softmax(logits)\n",
    "                loss = loss_fn(logits, label)\n",
    "                preds = logits.argmax(axis=-1)\n",
    "                loss.backward()\n",
    "                optimizer.step()\n",
    "                \n",
    "                acc = accuracy_score(label.cpu().numpy(), preds.cpu().numpy())   \n",
    "                loss = loss.cpu().item()\n",
    "                \n",
    "                record_dict[\"train\"].append({\n",
    "                        \"loss\": loss,  \"acc\":acc, \"step\": global_step\n",
    "                    })\n",
    "                \n",
    "                if global_step % eval_step == 0:\n",
    "                    model.eval()\n",
    "                    val_loss, val_acc = evaluating3(model, val_dl, loss_fn)\n",
    "                    record_dict[\"val\"].append({\n",
    "                        \"loss\": val_loss, \"acc\": val_acc, \"step\": global_step\n",
    "                    })\n",
    "                    model.train()\n",
    "                    \n",
    "               \n",
    "                    if save_ckpt_callback is not None:\n",
    "                        save_ckpt_callback(global_step, model.state_dict(), metric=val_acc)\n",
    "    \n",
    "    \n",
    "                    if early_stop_callback is not None:\n",
    "                        early_stop_callback(val_acc)\n",
    "                        if early_stop_callback.early_stop:\n",
    "                            print(f\"Early stop at epoch {epoch_id} / global_step {global_step}\")\n",
    "                            return record_dict\n",
    "                \n",
    "                global_step += 1\n",
    "                pbar.update(1)\n",
    "                pbar.set_postfix({\"epoch\": epoch_id})\n",
    "            \n",
    "    return record_dict           \n",
    "            "
   ],
   "outputs": [],
   "execution_count": 204
  },
  {
   "metadata": {
    "ExecuteTime": {
     "end_time": "2025-07-29T08:33:59.678441Z",
     "start_time": "2025-07-29T08:31:48.643447Z"
    }
   },
   "cell_type": "code",
   "source": [
    "epoch = 20\n",
    "model=MnistNet(784)\n",
    "optimizer=torch.optim.SGD(model.parameters(), lr=0.01, momentum=0.9)\n",
    "\n",
    "loss_fn=cross_entropy\n",
    "\n",
    "if not os.path.exists(\"checkpoints\"):\n",
    "    os.makedirs(\"checkpoints\")\n",
    "save_ckpt_callback = SaveCheckpointsCallback(\"checkpoints/Mnist\", save_best_only=True)\n",
    "early_stop_callback=EarlyStopCallback()\n",
    "\n",
    "record = training(epoch, train_dl, val_dl, optimizer, model, loss_fn, save_ckpt_callback, early_stop_callback)"
   ],
   "outputs": [
    {
     "name": "stderr",
     "output_type": "stream",
     "text": [
      " 55%|█████▌    | 11000/20000 [02:11<01:47, 83.96it/s, epoch=10]"
     ]
    },
    {
     "name": "stdout",
     "output_type": "stream",
     "text": [
      "Early stop at epoch 11 / global_step 11000\n"
     ]
    },
    {
     "name": "stderr",
     "output_type": "stream",
     "text": [
      "\n"
     ]
    }
   ],
   "execution_count": 205
  },
  {
   "metadata": {
    "ExecuteTime": {
     "end_time": "2025-07-29T08:34:04.041268Z",
     "start_time": "2025-07-29T08:34:03.931643Z"
    }
   },
   "cell_type": "code",
   "source": [
    "plt.plot([i[\"step\"] for i in record[\"train\"]], [i[\"loss\"] for i in record[\"train\"]], label=\"train\")\n",
    "plt.plot([i[\"step\"] for i in record[\"val\"]], [i[\"loss\"] for i in record[\"val\"]], label=\"val\")\n",
    "plt.grid()\n",
    "plt.legend()\n",
    "plt.show()"
   ],
   "outputs": [
    {
     "data": {
      "text/plain": [
       "<Figure size 640x480 with 1 Axes>"
      ],
      "image/png": "[encoded data removed]"
     },
     "metadata": {},
     "output_type": "display_data"
    }
   ],
   "execution_count": 206
  },
  {
   "metadata": {
    "ExecuteTime": {
     "end_time": "2025-07-29T08:34:05.213074Z",
     "start_time": "2025-07-29T08:34:05.083790Z"
    }
   },
   "cell_type": "code",
   "source": [
    "plt.plot([i[\"step\"] for i in record[\"train\"]], [i[\"acc\"] for i in record[\"train\"]], label=\"train\")\n",
    "plt.plot([i[\"step\"] for i in record[\"val\"]], [i[\"acc\"] for i in record[\"val\"]], label=\"val\")\n",
    "plt.grid()\n",
    "plt.legend()\n",
    "plt.show()"
   ],
   "outputs": [
    {
     "data": {
      "text/plain": [
       "<Figure size 640x480 with 1 Axes>"
      ],
      "image/png": "[encoded data removed]"
     },
     "metadata": {},
     "output_type": "display_data"
    }
   ],
   "execution_count": 207
  },
  {
   "metadata": {
    "ExecuteTime": {
     "end_time": "2025-07-29T08:34:08.421653Z",
     "start_time": "2025-07-29T08:34:06.914010Z"
    }
   },
   "cell_type": "code",
   "source": [
    "# dataload for evaluating\n",
    "\n",
    "# load checkpoints\n",
    "model.load_state_dict(torch.load(f\"checkpoints/Mnist/best.ckpt\", map_location=\"cpu\"))\n",
    "\n",
    "model.eval()\n",
    "loss, acc = evaluating(model, test_dl, loss_fn)\n",
    "print(f\"loss:     {loss:.4f}\\naccuracy: {acc:.4f}\")"
   ],
   "outputs": [
    {
     "name": "stdout",
     "output_type": "stream",
     "text": [
      "loss:     0.3454\n",
      "accuracy: 0.8774\n"
     ]
    }
   ],
   "execution_count": 208
  },
  {
   "metadata": {},
   "cell_type": "markdown",
   "source": "# 3.2"
  },
  {
   "metadata": {
    "ExecuteTime": {
     "end_time": "2025-07-29T08:41:48.227935Z",
     "start_time": "2025-07-29T08:41:48.217701Z"
    }
   },
   "cell_type": "code",
   "source": [
    "def training(epoch, train_dl, val_dl, optimizer,  model, loss_fn, save_ckpt_callback=None, early_stop_callback=None,eval_step=500):\n",
    "    model.train()\n",
    "    record_dict = {\n",
    "        \"train\": [],\n",
    "        \"val\":[]\n",
    "    }\n",
    "    \n",
    "    global_step = 0\n",
    "    with tqdm(total=epoch * len(train_dl)) as pbar:\n",
    "        for epoch_id in range(epoch):\n",
    "            for data, label in train_dl:\n",
    "                optimizer.zero_grad()\n",
    "                logits=model(data)\n",
    "                loss = loss_fn(logits, label)\n",
    "                preds = logits.argmax(axis=-1)\n",
    "                loss.backward()\n",
    "                optimizer.step()\n",
    "                \n",
    "                acc = accuracy_score(label.cpu().numpy(), preds.cpu().numpy())   \n",
    "                loss = loss.cpu().item()\n",
    "                \n",
    "                record_dict[\"train\"].append({\n",
    "                        \"loss\": loss,  \"acc\":acc, \"step\": global_step\n",
    "                    })\n",
    "                \n",
    "                if global_step % eval_step == 0:\n",
    "                    model.eval()\n",
    "                    val_loss, val_acc = evaluating4(model, val_dl, loss_fn)\n",
    "                    record_dict[\"val\"].append({\n",
    "                        \"loss\": val_loss, \"acc\": val_acc, \"step\": global_step\n",
    "                    })\n",
    "                    model.train()\n",
    "                    \n",
    "               \n",
    "                    if save_ckpt_callback is not None:\n",
    "                        save_ckpt_callback(global_step, model.state_dict(), metric=val_acc)\n",
    "    \n",
    "    \n",
    "                    if early_stop_callback is not None:\n",
    "                        early_stop_callback(val_acc)\n",
    "                        if early_stop_callback.early_stop:\n",
    "                            print(f\"Early stop at epoch {epoch_id} / global_step {global_step}\")\n",
    "                            return record_dict\n",
    "                \n",
    "                global_step += 1\n",
    "                pbar.update(1)\n",
    "                pbar.set_postfix({\"epoch\": epoch_id})\n",
    "            \n",
    "    return record_dict           \n",
    "            "
   ],
   "outputs": [],
   "execution_count": 216
  },
  {
   "metadata": {
    "ExecuteTime": {
     "end_time": "2025-07-29T08:44:49.564430Z",
     "start_time": "2025-07-29T08:41:49.727792Z"
    }
   },
   "cell_type": "code",
   "source": [
    "epoch = 20\n",
    "model=MnistNet(784)\n",
    "optimizer=torch.optim.SGD(model.parameters(), lr=0.01, momentum=0.9)\n",
    "\n",
    "# 损失函数中自动计算softmax\n",
    "loss_fn=nn.CrossEntropyLoss()\n",
    "\n",
    "if not os.path.exists(\"checkpoints\"):\n",
    "    os.makedirs(\"checkpoints\")\n",
    "save_ckpt_callback = SaveCheckpointsCallback(\"checkpoints/Mnist2\", save_best_only=True)\n",
    "early_stop_callback=EarlyStopCallback()\n",
    "\n",
    "record = training(epoch, train_dl, val_dl, optimizer, model, loss_fn, save_ckpt_callback, early_stop_callback)"
   ],
   "outputs": [
    {
     "name": "stderr",
     "output_type": "stream",
     "text": [
      " 78%|███████▊  | 15500/20000 [02:59<00:52, 86.20it/s, epoch=15]"
     ]
    },
    {
     "name": "stdout",
     "output_type": "stream",
     "text": [
      "Early stop at epoch 15 / global_step 15500\n"
     ]
    },
    {
     "name": "stderr",
     "output_type": "stream",
     "text": [
      "\n"
     ]
    }
   ],
   "execution_count": 217
  },
  {
   "metadata": {
    "ExecuteTime": {
     "end_time": "2025-07-29T08:44:55.819474Z",
     "start_time": "2025-07-29T08:44:55.689178Z"
    }
   },
   "cell_type": "code",
   "source": [
    "plt.plot([i[\"step\"] for i in record[\"train\"]], [i[\"loss\"] for i in record[\"train\"]], label=\"train\")\n",
    "plt.plot([i[\"step\"] for i in record[\"val\"]], [i[\"loss\"] for i in record[\"val\"]], label=\"val\")\n",
    "plt.grid()\n",
    "plt.legend()\n",
    "plt.show()"
   ],
   "outputs": [
    {
     "data": {
      "text/plain": [
       "<Figure size 640x480 with 1 Axes>"
      ],
      "image/png": "[encoded data removed]"
     },
     "metadata": {},
     "output_type": "display_data"
    }
   ],
   "execution_count": 218
  },
  {
   "metadata": {
    "ExecuteTime": {
     "end_time": "2025-07-29T08:44:57.708346Z",
     "start_time": "2025-07-29T08:44:57.564065Z"
    }
   },
   "cell_type": "code",
   "source": [
    "plt.plot([i[\"step\"] for i in record[\"train\"]], [i[\"acc\"] for i in record[\"train\"]], label=\"train\")\n",
    "plt.plot([i[\"step\"] for i in record[\"val\"]], [i[\"acc\"] for i in record[\"val\"]], label=\"val\")\n",
    "plt.grid()\n",
    "plt.legend()\n",
    "plt.show()"
   ],
   "outputs": [
    {
     "data": {
      "text/plain": [
       "<Figure size 640x480 with 1 Axes>"
      ],
      "image/png": "[encoded data removed]"
     },
     "metadata": {},
     "output_type": "display_data"
    }
   ],
   "execution_count": 219
  },
  {
   "metadata": {
    "ExecuteTime": {
     "end_time": "2025-07-29T08:45:00.224693Z",
     "start_time": "2025-07-29T08:44:58.717710Z"
    }
   },
   "cell_type": "code",
   "source": [
    "# dataload for evaluating\n",
    "\n",
    "# load checkpoints\n",
    "model.load_state_dict(torch.load(f\"checkpoints/Mnist2/best.ckpt\", map_location=\"cpu\"))\n",
    "\n",
    "model.eval()\n",
    "loss, acc = evaluating(model, test_dl, loss_fn)\n",
    "print(f\"loss:     {loss:.4f}\\naccuracy: {acc:.4f}\")"
   ],
   "outputs": [
    {
     "name": "stdout",
     "output_type": "stream",
     "text": [
      "loss:     1.5980\n",
      "accuracy: 0.8900\n"
     ]
    }
   ],
   "execution_count": 220
  },
  {
   "metadata": {},
   "cell_type": "code",
   "outputs": [],
   "execution_count": null,
   "source": ""
  }
 ],
 "metadata": {
  "kernelspec": {
   "display_name": "Python 3",
   "language": "python",
   "name": "python3"
  },
  "language_info": {
   "codemirror_mode": {
    "name": "ipython",
    "version": 3
   },
   "file_extension": ".py",
   "mimetype": "text/x-python",
   "name": "python",
   "nbconvert_exporter": "python",
   "pygments_lexer": "ipython3",
   "version": "3.7.0"
  }
 },
 "nbformat": 4,
 "nbformat_minor": 2
}
