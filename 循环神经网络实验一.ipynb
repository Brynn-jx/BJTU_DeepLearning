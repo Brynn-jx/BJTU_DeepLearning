{
 "cells": [
  {
   "cell_type": "code",
   "id": "initial_id",
   "metadata": {
    "collapsed": true,
    "ExecuteTime": {
     "end_time": "2025-08-22T10:19:03.006170Z",
     "start_time": "2025-08-22T10:18:57.266740Z"
    }
   },
   "source": [
    "import numpy as np\n",
    "import sklearn.preprocessing\n",
    "import torch\n",
    "from sklearn.model_selection import train_test_split\n",
    "import torch\n",
    "from matplotlib import pyplot as plt \n",
    "import random\n",
    "import torch.nn as nn\n",
    "from sklearn.preprocessing import StandardScaler, MinMaxScaler\n",
    "from torch.utils.data import Dataset, DataLoader, TensorDataset, Subset, SubsetRandomSampler\n",
    "import os\n",
    "import json\n",
    "import torchvision \n",
    "import torchvision.transforms as transforms\n",
    "from torch.utils.data import random_split\n",
    "import torch.nn.functional as F\n",
    "from sklearn.metrics import accuracy_score\n",
    "from tqdm.auto import tqdm\n",
    "from sklearn.model_selection import KFold\n",
    "import pandas as pd\n",
    "from time import time\n",
    "# from numpy.lib.stride_tricks import as_strided\n",
    "from torchvision.datasets import ImageFolder\n",
    "from torch import as_strided\n",
    "\n",
    "\n",
    "device = torch.device(\"cuda:0\") if torch.cuda.is_available() else torch.device(\"cpu\")"
   ],
   "outputs": [],
   "execution_count": 1
  },
  {
   "metadata": {
    "ExecuteTime": {
     "end_time": "2025-08-22T12:07:18.561309Z",
     "start_time": "2025-08-22T12:07:18.147509Z"
    }
   },
   "cell_type": "code",
   "source": [
    "PEMS04 = np.load('./高速公路车流量数据集/PEMS04.npz')\n",
    "dataset_PEMS04 = PEMS04['data']\n",
    "print(dataset_PEMS04.shape) # 车流量，拥挤程度，车速"
   ],
   "id": "52ed3cd9371e1600",
   "outputs": [
    {
     "name": "stdout",
     "output_type": "stream",
     "text": [
      "(16992, 307, 3)\n"
     ]
    }
   ],
   "execution_count": 22
  },
  {
   "metadata": {},
   "cell_type": "markdown",
   "source": "# 数据处理",
   "id": "9fdf445c801ab78e"
  },
  {
   "metadata": {
    "ExecuteTime": {
     "end_time": "2025-08-22T12:07:19.533565Z",
     "start_time": "2025-08-22T12:07:19.521456Z"
    }
   },
   "cell_type": "code",
   "source": "%config ServerApp.iopub_data_rate_limit = 10000000",
   "id": "a8725515eece6c2b",
   "outputs": [],
   "execution_count": 23
  },
  {
   "metadata": {
    "ExecuteTime": {
     "end_time": "2025-08-22T12:07:20.726083Z",
     "start_time": "2025-08-22T12:07:20.483147Z"
    }
   },
   "cell_type": "code",
   "source": [
    "scaler = np.zeros(dataset_PEMS04.shape)\n",
    "print(scaler.shape)\n",
    "v_scaler = MinMaxScaler()  # 速度归一化\n",
    "o_scaler = MinMaxScaler()  # 拥挤程度归一化\n",
    "f_scaler = MinMaxScaler()  # 车流量归一化\n",
    "scaler[:,:,0] = f_scaler.fit_transform(dataset_PEMS04[:,:,0])\n",
    "scaler[:,:,1] = o_scaler.fit_transform(dataset_PEMS04[:,:,1])\n",
    "scaler[:,:,2] = v_scaler.fit_transform(dataset_PEMS04[:,:,2])\n",
    "# 划分训练数据集，验证数据集，测试数据集\n",
    "train_proportion, val_proportion, test_proportion = 0.6, 0.2, 0.2\n",
    "train_dataset = scaler[:int(train_proportion * len(dataset_PEMS04)),:,:]\n",
    "val_dataset = scaler[int(train_proportion * len(dataset_PEMS04)):int((train_proportion + val_proportion) * len(dataset_PEMS04)),:,:]\n",
    "test_dataset = scaler[int((train_proportion + val_proportion) * len(dataset_PEMS04)):,:,:]"
   ],
   "id": "e8411f6dbc30b545",
   "outputs": [
    {
     "name": "stdout",
     "output_type": "stream",
     "text": [
      "(16992, 307, 3)\n"
     ]
    }
   ],
   "execution_count": 24
  },
  {
   "metadata": {},
   "cell_type": "markdown",
   "source": "# 采样",
   "id": "534b7b4a43d486c7"
  },
  {
   "metadata": {
    "ExecuteTime": {
     "end_time": "2025-08-22T12:10:18.921186Z",
     "start_time": "2025-08-22T12:10:18.907041Z"
    }
   },
   "cell_type": "code",
   "source": [
    "class TrafficDataset(Dataset):\n",
    "    def __init__(self, dataset, windows_size, predict_len=1):\n",
    "        self.dataset = dataset\n",
    "        self.windows_size = windows_size\n",
    "        self.predict_len = predict_len\n",
    "        self.T, self.N, self.F = self.dataset.shape  # 时间步，节点数，特征数\n",
    "        \n",
    "    def __len__(self):\n",
    "        return self.T - self.windows_size - self.predict_len + 1\n",
    "    \n",
    "    def __getitem__(self, idx):\n",
    "        # 输入序列: (window_size, N, F)\n",
    "        x = self.dataset[idx:idx + self.windows_size, :, :]\n",
    "        \n",
    "        # 目标序列: (pred_len, N, F) - 预测未来pred_len个时间步\n",
    "        y = self.dataset[idx + self.windows_size:idx + self.windows_size + self.predict_len, :, :]\n",
    "        \n",
    "        # 转换为PyTorch张量并调整维度为 (序列长度, 节点数×特征数)\n",
    "        # 或者保持原始维度，在模型中处理\n",
    "        x = torch.FloatTensor(x)  # shape: (window_size, N, F)\n",
    "        y = torch.FloatTensor(y)  # shape: (pred_len, N, F)\n",
    "        \n",
    "        return x, y"
   ],
   "id": "861457f8665af5e0",
   "outputs": [],
   "execution_count": 29
  },
  {
   "metadata": {},
   "cell_type": "markdown",
   "source": "# 采样",
   "id": "3ea92cf059576ee0"
  },
  {
   "metadata": {
    "ExecuteTime": {
     "end_time": "2025-08-22T12:16:22.167655Z",
     "start_time": "2025-08-22T12:16:22.161937Z"
    }
   },
   "cell_type": "code",
   "source": [
    "windows_size = 12  # 输入60分钟数据（5分钟×12）\n",
    "predict_len = 1     # 预测未来15分钟\n",
    "\n",
    "train_ds = TrafficDataset(train_dataset, windows_size, predict_len)\n",
    "val_ds = TrafficDataset(val_dataset, windows_size, predict_len)\n",
    "test_ds = TrafficDataset(test_dataset, windows_size, predict_len)\n",
    "train_loader = DataLoader(train_ds, batch_size=32, shuffle=False)\n",
    "val_loader = DataLoader(val_ds, batch_size=32, shuffle=False)\n",
    "test_loader = DataLoader(test_ds, batch_size=32, shuffle=False)"
   ],
   "id": "49230f5d1bd3d028",
   "outputs": [],
   "execution_count": 32
  },
  {
   "metadata": {
    "ExecuteTime": {
     "end_time": "2025-08-22T12:18:59.594402Z",
     "start_time": "2025-08-22T12:18:59.583261Z"
    }
   },
   "cell_type": "code",
   "source": [
    "from sklearn.metrics import accuracy_score\n",
    "\n",
    "@torch.no_grad()\n",
    "def evaluating(model, dataloader, loss_fct):\n",
    "    loss_list = []\n",
    "    pred_list = []\n",
    "    label_list = []\n",
    "    for datas, labels in dataloader:\n",
    "        datas = datas.to(device)\n",
    "        labels = labels.to(device)\n",
    "        # 前向计算\n",
    "        logits = model(datas)\n",
    "        loss = loss_fct(logits, labels)         # 验证集损失\n",
    "        loss_list.append(loss.item())\n",
    "        \n",
    "        preds = logits.argmax(axis=-1)    # 验证集预测\n",
    "        pred_list.extend(preds.cpu().numpy().tolist())\n",
    "        label_list.extend(labels.cpu().numpy().tolist())\n",
    "        \n",
    "    acc = accuracy_score(label_list, pred_list)\n",
    "    return np.mean(loss_list), acc\n"
   ],
   "id": "4ef2c7509f576a57",
   "outputs": [],
   "execution_count": 33
  },
  {
   "metadata": {
    "ExecuteTime": {
     "end_time": "2025-08-22T12:19:00.103595Z",
     "start_time": "2025-08-22T12:19:00.093692Z"
    }
   },
   "cell_type": "code",
   "source": [
    "class EarlyStopCallback:\n",
    "    def __init__(self, patience=5, min_delta=0.01):\n",
    "        self.patience = patience\n",
    "        self.min_delta = min_delta\n",
    "        self.best_metric = -1\n",
    "        self.counter = 0\n",
    "        \n",
    "    def __call__(self, metric):\n",
    "        if metric >= self.best_metric + self.min_delta:\n",
    "            # update best metric\n",
    "            self.best_metric = metric\n",
    "            # reset counter \n",
    "            self.counter = 0\n",
    "        else: \n",
    "            self.counter += 1\n",
    "            \n",
    "    @property\n",
    "    def early_stop(self):\n",
    "        return self.counter >= self.patience\n"
   ],
   "id": "599b20eefcc346d6",
   "outputs": [],
   "execution_count": 34
  },
  {
   "metadata": {
    "ExecuteTime": {
     "end_time": "2025-08-22T12:46:47.776122Z",
     "start_time": "2025-08-22T12:46:47.737866Z"
    }
   },
   "cell_type": "code",
   "source": [
    "class MyRnn(nn.Module):\n",
    "    def __init__(self, input_size, hidden_size, output_size):\n",
    "        super(MyRnn, self).__init__()\n",
    "        self.hidden_size = hidden_size\n",
    "        self.output_size = output_size\n",
    "        self.w_h = nn.Parameter(torch.randn(input_size, self.hidden_size))\n",
    "        self.u_h = nn.Parameter(torch.randn(self.hidden_size, self.hidden_size))\n",
    "        self.b_h = nn.Parameter(torch.zeros(self.hidden_size))\n",
    "        \n",
    "        self.w_y = nn.Parameter(torch.randn(self.hidden_size, self.output_size))\n",
    "        self.b_y = nn.Parameter(torch.zeros(self.output_size))\n",
    "        \n",
    "        self.tanh = nn.Tanh()\n",
    "        self.relu = nn.ReLU()\n",
    "        \n",
    "        self.init_weights()\n",
    "    \n",
    "    \n",
    "    def init_weights(self):\n",
    "        for param in self.parameters():\n",
    "            if param.dim() > 1:\n",
    "                nn.init.xavier_uniform_(param)\n",
    "        \n",
    "        \n",
    "    def forward(self, x):\n",
    "        batch_size = x.size(0)\n",
    "        seq_len = x.size(1)\n",
    "        h = torch.zeros(batch_size, self.hidden_size).to(device)\n",
    "        y_list = []\n",
    "        for i in range(seq_len):\n",
    "            h = self.tanh(torch.matmul(x[:,i,:], self.w_h) + torch.matmul(h, self.u_h) + self.b_h)\n",
    "            y = self.relu(torch.matmul(h, self.w_y) + self.b_y)\n",
    "            y_list.append(y)\n",
    "        \n",
    "        return h, y_list"
   ],
   "id": "e4f120af687ce331",
   "outputs": [],
   "execution_count": 35
  },
  {
   "metadata": {},
   "cell_type": "code",
   "outputs": [],
   "execution_count": null,
   "source": "",
   "id": "8759e57e388af216"
  }
 ],
 "metadata": {
  "kernelspec": {
   "display_name": "Python 3",
   "language": "python",
   "name": "python3"
  },
  "language_info": {
   "codemirror_mode": {
    "name": "ipython",
    "version": 2
   },
   "file_extension": ".py",
   "mimetype": "text/x-python",
   "name": "python",
   "nbconvert_exporter": "python",
   "pygments_lexer": "ipython2",
   "version": "2.7.6"
  }
 },
 "nbformat": 4,
 "nbformat_minor": 5
}
