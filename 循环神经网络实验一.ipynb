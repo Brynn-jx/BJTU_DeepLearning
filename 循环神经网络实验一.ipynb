{
 "cells": [
  {
   "cell_type": "code",
   "id": "initial_id",
   "metadata": {
    "collapsed": true,
    "ExecuteTime": {
     "end_time": "2025-08-21T16:13:13.842367Z",
     "start_time": "2025-08-21T16:13:13.831399Z"
    }
   },
   "source": [
    "import numpy as np\n",
    "import sklearn.preprocessing\n",
    "import torch\n",
    "from sklearn.model_selection import train_test_split\n",
    "import torch\n",
    "from matplotlib import pyplot as plt \n",
    "import random\n",
    "import torch.nn as nn\n",
    "from sklearn.preprocessing import StandardScaler, MinMaxScaler\n",
    "from torch.utils.data import Dataset, DataLoader, TensorDataset, Subset, SubsetRandomSampler\n",
    "import os\n",
    "import json\n",
    "import torchvision \n",
    "import torchvision.transforms as transforms\n",
    "from torch.utils.data import random_split\n",
    "import torch.nn.functional as F\n",
    "from sklearn.metrics import accuracy_score\n",
    "from tqdm.auto import tqdm\n",
    "from sklearn.model_selection import KFold\n",
    "import pandas as pd\n",
    "from time import time\n",
    "# from numpy.lib.stride_tricks import as_strided\n",
    "from torchvision.datasets import ImageFolder\n",
    "from torch import as_strided\n",
    "\n",
    "\n",
    "device = torch.device(\"cuda:0\") if torch.cuda.is_available() else torch.device(\"cpu\")"
   ],
   "outputs": [],
   "execution_count": 17
  },
  {
   "metadata": {
    "ExecuteTime": {
     "end_time": "2025-08-21T16:00:02.050331Z",
     "start_time": "2025-08-21T16:00:01.649374Z"
    }
   },
   "cell_type": "code",
   "source": [
    "PEMS04 = np.load('./高速公路车流量数据集/PEMS04.npz')\n",
    "dataset_PEMS04 = PEMS04['data']\n",
    "print(dataset_PEMS04.shape) # 车流量，拥挤程度，车速"
   ],
   "id": "52ed3cd9371e1600",
   "outputs": [
    {
     "name": "stdout",
     "output_type": "stream",
     "text": [
      "(16992, 307, 3)\n"
     ]
    }
   ],
   "execution_count": 10
  },
  {
   "metadata": {},
   "cell_type": "markdown",
   "source": "# 数据处理",
   "id": "9fdf445c801ab78e"
  },
  {
   "metadata": {
    "ExecuteTime": {
     "end_time": "2025-08-21T16:16:27.469469Z",
     "start_time": "2025-08-21T16:16:27.200387Z"
    }
   },
   "cell_type": "code",
   "source": [
    "scaler = np.zeros(dataset_PEMS04.shape)\n",
    "print(scaler.shape)\n",
    "v_scaler = MinMaxScaler()  # 速度归一化\n",
    "o_scaler = MinMaxScaler()  # 拥挤程度归一化\n",
    "f_scaler = MinMaxScaler()  # 车流量归一化\n",
    "scaler[:,:,0] = f_scaler.fit_transform(dataset_PEMS04[:,:,0])\n",
    "scaler[:,:,1] = o_scaler.fit_transform(dataset_PEMS04[:,:,1])\n",
    "scaler[:,:,2] = v_scaler.fit_transform(dataset_PEMS04[:,:,2])"
   ],
   "id": "e8411f6dbc30b545",
   "outputs": [
    {
     "name": "stdout",
     "output_type": "stream",
     "text": [
      "(16992, 307, 3)\n"
     ]
    }
   ],
   "execution_count": 23
  },
  {
   "metadata": {},
   "cell_type": "code",
   "outputs": [],
   "execution_count": null,
   "source": "",
   "id": "861457f8665af5e0"
  }
 ],
 "metadata": {
  "kernelspec": {
   "display_name": "Python 3",
   "language": "python",
   "name": "python3"
  },
  "language_info": {
   "codemirror_mode": {
    "name": "ipython",
    "version": 2
   },
   "file_extension": ".py",
   "mimetype": "text/x-python",
   "name": "python",
   "nbconvert_exporter": "python",
   "pygments_lexer": "ipython2",
   "version": "2.7.6"
  }
 },
 "nbformat": 4,
 "nbformat_minor": 5
}
