{
 "cells": [
  {
   "cell_type": "code",
   "id": "initial_id",
   "metadata": {
    "collapsed": true,
    "ExecuteTime": {
     "end_time": "2025-08-13T13:32:00.028324Z",
     "start_time": "2025-08-13T13:32:00.019600Z"
    }
   },
   "source": [
    "import numpy as np\n",
    "import torch\n",
    "from sklearn.model_selection import train_test_split\n",
    "import torch\n",
    "from matplotlib import pyplot as plt \n",
    "import random\n",
    "import torch.nn as nn\n",
    "from torch.utils.data import Dataset, DataLoader, TensorDataset, Subset, SubsetRandomSampler\n",
    "import os\n",
    "import json\n",
    "import torchvision \n",
    "import torchvision.transforms as transforms\n",
    "from torch.utils.data import random_split\n",
    "import torch.nn.functional as F\n",
    "from sklearn.metrics import accuracy_score\n",
    "from tqdm.auto import tqdm\n",
    "from sklearn.model_selection import KFold\n",
    "import pandas as pd\n",
    "from time import time\n",
    "# from numpy.lib.stride_tricks import as_strided\n",
    "from torchvision.datasets import ImageFolder\n",
    "from torch import as_strided\n",
    "\n",
    "\n",
    "device = torch.device(\"cuda:0\") if torch.cuda.is_available() else torch.device(\"cpu\")"
   ],
   "outputs": [],
   "execution_count": 119
  },
  {
   "metadata": {},
   "cell_type": "markdown",
   "source": "# 数据处理",
   "id": "c8cf204e5651c053"
  },
  {
   "metadata": {},
   "cell_type": "markdown",
   "source": "# 车辆分类数据集",
   "id": "590475215ee9ad75"
  },
  {
   "metadata": {
    "ExecuteTime": {
     "end_time": "2025-08-13T13:44:58.819642Z",
     "start_time": "2025-08-13T13:44:55.727896Z"
    }
   },
   "cell_type": "code",
   "source": [
    "PATH_CAR = \"./车辆分类数据集/车辆分类数据集\"\n",
    "def compute_mean_std(dataset_path, img_size=(224, 224), batch_size=32):\n",
    "    \"\"\"\n",
    "    计算图像数据集的均值和标准差\n",
    "    :param dataset_path: 数据集路径（需为ImageFolder格式）\n",
    "    :param img_size: 统一调整的图像尺寸\n",
    "    :param batch_size: 批量处理大小\n",
    "    :return: (mean, std) 各通道的均值和标准差\n",
    "    \"\"\"\n",
    "    # 预处理：调整尺寸 + 转为Tensor\n",
    "    transform = transforms.Compose([\n",
    "        transforms.Resize(img_size),\n",
    "        transforms.ToTensor()  # 自动缩放到[0,1]\n",
    "    ])\n",
    "    \n",
    "    # 加载数据集\n",
    "    dataset = ImageFolder(dataset_path, transform=transform)\n",
    "    loader = DataLoader(dataset, batch_size=batch_size, shuffle=False)\n",
    "    \n",
    "    # 初始化统计变量\n",
    "    mean = 0.\n",
    "    std = 0.\n",
    "    nb_samples = 0.\n",
    "    \n",
    "    # 遍历数据集计算\n",
    "    for data, _ in tqdm(loader):\n",
    "        batch_samples = data.size(0)\n",
    "        data = data.view(batch_samples, data.size(1), -1)  # 展平H,W维度\n",
    "        mean += data.mean(2).sum(0)  # 各通道均值求和\n",
    "        std += data.std(2).sum(0)    # 各通道标准差求和\n",
    "        nb_samples += batch_samples\n",
    "    \n",
    "    # 计算全局均值和标准差\n",
    "    mean /= nb_samples\n",
    "    std /= nb_samples\n",
    "    return mean.tolist(), std.tolist()\n",
    "\n",
    "mean, std = compute_mean_std(PATH_CAR)\n",
    "print(f\"均值: {mean}\")  # 例如 [0.485, 0.456, 0.406]\n",
    "print(f\"标准差: {std}\")  # 例如 [0.229, 0.224, 0.225]"
   ],
   "id": "6ade5809e3a41a47",
   "outputs": [
    {
     "data": {
      "text/plain": [
       "  0%|          | 0/43 [00:00<?, ?it/s]"
      ],
      "application/vnd.jupyter.widget-view+json": {
       "version_major": 2,
       "version_minor": 0,
       "model_id": "bf16910dcc6e4470beb06e78f99314cd"
      }
     },
     "metadata": {},
     "output_type": "display_data"
    },
    {
     "name": "stdout",
     "output_type": "stream",
     "text": [
      "均值: [0.4101674556732178, 0.4220322370529175, 0.4358880817890167]\n",
      "标准差: [0.19289539754390717, 0.19039973616600037, 0.1875486969947815]\n"
     ]
    }
   ],
   "execution_count": 145
  },
  {
   "metadata": {
    "ExecuteTime": {
     "end_time": "2025-08-13T14:37:11.435265Z",
     "start_time": "2025-08-13T14:37:11.400303Z"
    }
   },
   "cell_type": "code",
   "source": [
    "# 固定随机种子\n",
    "torch.manual_seed(42)\n",
    "\n",
    "# 数据预处理\n",
    "transform_train = transforms.Compose([\n",
    "    transforms.Resize((64, 64)),\n",
    "    transforms.RandomRotation(5),\n",
    "    transforms.ToTensor(),\n",
    "    transforms.Lambda(lambda x: x + torch.randn_like(x) * 0.005),  # 提前加噪声\n",
    "    transforms.Normalize(mean=[0.410, 0.422, 0.435], std=[0.193, 0.190, 0.187]),\n",
    "])\n",
    "\n",
    "transform_test = transforms.Compose([\n",
    "    transforms.Resize((64, 64)),\n",
    "    transforms.ToTensor(),\n",
    "    transforms.Normalize(mean=[0.410, 0.422, 0.435], std=[0.193, 0.190, 0.187]),\n",
    "])\n",
    "\n",
    "# 划分数据集\n",
    "def split_dataset(root_path, test_size=0.2, val_size=0.2, random_seed=42):\n",
    "    dataset = ImageFolder(root_path)\n",
    "    indices = list(range(len(dataset)))\n",
    "    labels = [label for _, label in dataset.imgs]\n",
    "    \n",
    "    # 分层拆分（保持类别比例）\n",
    "    train_val_idx, test_idx = train_test_split(\n",
    "        indices, test_size=test_size, random_state=random_seed, stratify=labels\n",
    "    )\n",
    "    train_idx, val_idx = train_test_split(\n",
    "        train_val_idx, test_size=val_size/(1-test_size), random_state=random_seed, stratify=[labels[i] for i in train_val_idx]\n",
    "    )\n",
    "    return train_idx, val_idx, test_idx\n",
    "\n",
    "# 加载数据集\n",
    "dataset_full = ImageFolder(root=PATH_CAR)  # 不应用预处理\n",
    "train_idx, val_idx, test_idx = split_dataset(PATH_CAR)\n",
    "\n",
    "# 创建子集并应用预处理\n",
    "dataset_train = Subset(dataset_full, train_idx)\n",
    "dataset_train.dataset.transform = transform_train  # 训练集增强\n",
    "\n",
    "dataset_val = Subset(dataset_full, val_idx)\n",
    "dataset_val.dataset.transform = transform_test    # 验证集无增强\n",
    "\n",
    "dataset_test = Subset(dataset_full, test_idx)\n",
    "dataset_test.dataset.transform = transform_test\n",
    "\n",
    "# 创建DataLoader\n",
    "train_dl_vehicle = DataLoader(dataset_train, batch_size=32, shuffle=True)  # 训练集需打乱\n",
    "val_dl_vehicle = DataLoader(dataset_val, batch_size=32, shuffle=False)\n",
    "test_dl_vehicle = DataLoader(dataset_test, batch_size=32, shuffle=False)\n",
    "\n",
    "print(f\"训练集: {len(train_dl_vehicle)}, 验证集: {len(val_dl_vehicle)}, 测试集: {len(test_dl_vehicle)}\")"
   ],
   "id": "ffaefcf989312c27",
   "outputs": [
    {
     "name": "stdout",
     "output_type": "stream",
     "text": [
      "训练集: 26, 验证集: 9, 测试集: 9\n"
     ]
    }
   ],
   "execution_count": 191
  },
  {
   "metadata": {
    "ExecuteTime": {
     "end_time": "2025-08-13T14:31:17.600538Z",
     "start_time": "2025-08-13T14:31:17.551694Z"
    }
   },
   "cell_type": "code",
   "source": [
    "print(train_dl_vehicle.dataset)\n",
    "for data, _ in train_dl_vehicle:\n",
    "    print(_)\n",
    "    break"
   ],
   "id": "12b0c56cfbbcbf32",
   "outputs": [
    {
     "name": "stdout",
     "output_type": "stream",
     "text": [
      "<torch.utils.data.dataset.Subset object at 0x000001FBA6810410>\n",
      "tensor([0, 1, 2, 1, 1, 1, 2, 2, 2, 2, 2, 0, 0, 0, 1, 2, 1, 0, 2, 2, 1, 2, 1, 2,\n",
      "        2, 2, 1, 1, 2, 0, 1, 1])\n"
     ]
    }
   ],
   "execution_count": 179
  },
  {
   "metadata": {},
   "cell_type": "markdown",
   "source": "# 手写二维卷积",
   "id": "76d7b692793e40e6"
  },
  {
   "metadata": {
    "ExecuteTime": {
     "end_time": "2025-08-10T10:03:36.317918Z",
     "start_time": "2025-08-10T10:03:36.312678Z"
    }
   },
   "cell_type": "code",
   "source": [
    "# # 根据im2col变为矩阵乘法\n",
    "# def split_by_strides_np(X, kh, kw, s):\n",
    "#     N, C, H, W = X.shape\n",
    "#     oh = (H - kh) // s + 1\n",
    "#     ow = (W - kw) // s + 1\n",
    "#     print(X.strides)\n",
    "#     strides = (*X.strides[:-2], X.strides[-2]*s, X.strides[-1]*s, *X.strides[-2:])\n",
    "#     print(strides)\n",
    "#     A = as_strided(X, shape=(N,C,oh,ow,kh,kw), strides=strides)\n",
    "#     return A"
   ],
   "id": "3cc0277f6c5e3a20",
   "outputs": [],
   "execution_count": 45
  },
  {
   "metadata": {},
   "cell_type": "markdown",
   "source": [
    "np.tensordot可以指定对应的轴相乘，相乘完的轴就可以认为没了，然后将剩下的轴拼在一起\n",
    "在使用的时候只要弄懂每个轴是什么物理意义，然后知道想要输出的形状是什么样子的就行了\n",
    "\n",
    "例如这里A.shape(N,C,oh,ow,kh,kw),kernel.shape(n,c,kh,kw)我想要输出的样子是(N, n, oh, ow)所以axes[(1,4,5), (1,2,3)]\n",
    "\n",
    "将C，c；kh，kh；kw，kw相乘，拼接成了(N,oh,ow,n)的形状，然后使用transpose调整一下位置即可"
   ],
   "id": "2895d734c0f488f0"
  },
  {
   "metadata": {
    "ExecuteTime": {
     "end_time": "2025-08-10T10:03:38.143312Z",
     "start_time": "2025-08-10T10:03:38.130399Z"
    }
   },
   "cell_type": "code",
   "source": [
    "# def conv_np(X, kernel, stride=1, padding=0):\n",
    "#     n, c, kh, kw = kernel.shape\n",
    "#     A =split_by_strides_np(X, kh, kw, stride)\n",
    "#     res=np.tensordot(A, kernel, axes=[(1,4,5), (1,2,3)])\n",
    "#     res = res.transpose((0,3,1,2))\n",
    "#     return  res"
   ],
   "id": "9d628bb447ce0a56",
   "outputs": [],
   "execution_count": 46
  },
  {
   "metadata": {
    "ExecuteTime": {
     "end_time": "2025-08-10T10:03:39.955169Z",
     "start_time": "2025-08-10T10:03:39.888985Z"
    }
   },
   "cell_type": "code",
   "source": [
    "# X1 = np.arange(1,19, dtype=np.int32).reshape(1, 2,3,3)\n",
    "# kernel = np.arange(1,9, dtype=np.int32).reshape(1, 2,2,2)\n",
    "# res = conv_np(X1, kernel)\n",
    "# print(res)"
   ],
   "id": "fa6f9efff5fb7c82",
   "outputs": [
    {
     "name": "stdout",
     "output_type": "stream",
     "text": [
      "(72, 36, 12, 4)\n",
      "(72, 36, 12, 4, 12, 4)\n"
     ]
    },
    {
     "ename": "TypeError",
     "evalue": "as_strided(): argument 'input' (position 1) must be Tensor, not numpy.ndarray",
     "output_type": "error",
     "traceback": [
      "\u001B[31m---------------------------------------------------------------------------\u001B[39m",
      "\u001B[31mTypeError\u001B[39m                                 Traceback (most recent call last)",
      "\u001B[36mCell\u001B[39m\u001B[36m \u001B[39m\u001B[32mIn[47]\u001B[39m\u001B[32m, line 3\u001B[39m\n\u001B[32m      1\u001B[39m X1 = np.arange(\u001B[32m1\u001B[39m,\u001B[32m19\u001B[39m, dtype=np.int32).reshape(\u001B[32m1\u001B[39m, \u001B[32m2\u001B[39m,\u001B[32m3\u001B[39m,\u001B[32m3\u001B[39m)\n\u001B[32m      2\u001B[39m kernel = np.arange(\u001B[32m1\u001B[39m,\u001B[32m9\u001B[39m, dtype=np.int32).reshape(\u001B[32m1\u001B[39m, \u001B[32m2\u001B[39m,\u001B[32m2\u001B[39m,\u001B[32m2\u001B[39m)\n\u001B[32m----> \u001B[39m\u001B[32m3\u001B[39m res = \u001B[43mconv_np\u001B[49m\u001B[43m(\u001B[49m\u001B[43mX1\u001B[49m\u001B[43m,\u001B[49m\u001B[43m \u001B[49m\u001B[43mkernel\u001B[49m\u001B[43m)\u001B[49m\n\u001B[32m      4\u001B[39m \u001B[38;5;28mprint\u001B[39m(res)\n",
      "\u001B[36mCell\u001B[39m\u001B[36m \u001B[39m\u001B[32mIn[46]\u001B[39m\u001B[32m, line 3\u001B[39m, in \u001B[36mconv_np\u001B[39m\u001B[34m(X, kernel, stride, padding)\u001B[39m\n\u001B[32m      1\u001B[39m \u001B[38;5;28;01mdef\u001B[39;00m\u001B[38;5;250m \u001B[39m\u001B[34mconv_np\u001B[39m(X, kernel, stride=\u001B[32m1\u001B[39m, padding=\u001B[32m0\u001B[39m):\n\u001B[32m      2\u001B[39m     n, c, kh, kw = kernel.shape\n\u001B[32m----> \u001B[39m\u001B[32m3\u001B[39m     A =\u001B[43msplit_by_strides_np\u001B[49m\u001B[43m(\u001B[49m\u001B[43mX\u001B[49m\u001B[43m,\u001B[49m\u001B[43m \u001B[49m\u001B[43mkh\u001B[49m\u001B[43m,\u001B[49m\u001B[43m \u001B[49m\u001B[43mkw\u001B[49m\u001B[43m,\u001B[49m\u001B[43m \u001B[49m\u001B[43mstride\u001B[49m\u001B[43m)\u001B[49m\n\u001B[32m      4\u001B[39m     res=np.tensordot(A, kernel, axes=[(\u001B[32m1\u001B[39m,\u001B[32m4\u001B[39m,\u001B[32m5\u001B[39m), (\u001B[32m1\u001B[39m,\u001B[32m2\u001B[39m,\u001B[32m3\u001B[39m)])\n\u001B[32m      5\u001B[39m     res = res.transpose((\u001B[32m0\u001B[39m,\u001B[32m3\u001B[39m,\u001B[32m1\u001B[39m,\u001B[32m2\u001B[39m))\n",
      "\u001B[36mCell\u001B[39m\u001B[36m \u001B[39m\u001B[32mIn[45]\u001B[39m\u001B[32m, line 9\u001B[39m, in \u001B[36msplit_by_strides_np\u001B[39m\u001B[34m(X, kh, kw, s)\u001B[39m\n\u001B[32m      7\u001B[39m strides = (*X.strides[:-\u001B[32m2\u001B[39m], X.strides[-\u001B[32m2\u001B[39m]*s, X.strides[-\u001B[32m1\u001B[39m]*s, *X.strides[-\u001B[32m2\u001B[39m:])\n\u001B[32m      8\u001B[39m \u001B[38;5;28mprint\u001B[39m(strides)\n\u001B[32m----> \u001B[39m\u001B[32m9\u001B[39m A = \u001B[43mas_strided\u001B[49m\u001B[43m(\u001B[49m\u001B[43mX\u001B[49m\u001B[43m,\u001B[49m\u001B[43m \u001B[49m\u001B[43mshape\u001B[49m\u001B[43m=\u001B[49m\u001B[43m(\u001B[49m\u001B[43mN\u001B[49m\u001B[43m,\u001B[49m\u001B[43mC\u001B[49m\u001B[43m,\u001B[49m\u001B[43moh\u001B[49m\u001B[43m,\u001B[49m\u001B[43mow\u001B[49m\u001B[43m,\u001B[49m\u001B[43mkh\u001B[49m\u001B[43m,\u001B[49m\u001B[43mkw\u001B[49m\u001B[43m)\u001B[49m\u001B[43m,\u001B[49m\u001B[43m \u001B[49m\u001B[43mstrides\u001B[49m\u001B[43m=\u001B[49m\u001B[43mstrides\u001B[49m\u001B[43m)\u001B[49m\n\u001B[32m     10\u001B[39m \u001B[38;5;28;01mreturn\u001B[39;00m A\n",
      "\u001B[31mTypeError\u001B[39m: as_strided(): argument 'input' (position 1) must be Tensor, not numpy.ndarray"
     ]
    }
   ],
   "execution_count": 47
  },
  {
   "metadata": {
    "ExecuteTime": {
     "end_time": "2025-08-13T13:32:28.740684Z",
     "start_time": "2025-08-13T13:32:28.726351Z"
    }
   },
   "cell_type": "code",
   "source": [
    "def split_by_strides(X, kh, kw, s):\n",
    "    N, C, H, W = X.shape\n",
    "    oh = (H - kh) // s + 1\n",
    "    ow = (W - kw) // s + 1\n",
    "    \n",
    "    # 计算PyTorch张量的stride\n",
    "    stride = list(X.stride())\n",
    "    strides = (stride[0], stride[1], \n",
    "               stride[2]*s, stride[3]*s, \n",
    "               stride[2], stride[3])\n",
    "    \n",
    "    A = as_strided(X, size=(N, C, oh, ow, kh, kw), \n",
    "                  stride=strides)\n",
    "    return A\n",
    "\n",
    "def conv(X, kernel, stride=1, padding=0):\n",
    "    if padding > 0:\n",
    "        X = F.pad(X, (padding, padding, padding, padding))\n",
    "    \n",
    "    n, c, kh, kw = kernel.shape\n",
    "    A = split_by_strides(X, kh, kw, stride)\n",
    "    \n",
    "    # 使用einsum实现张量收缩\n",
    "    res = torch.einsum('nchwkl,ockl->nohw', A, kernel)\n",
    "    return res"
   ],
   "id": "4c97105461a1d33e",
   "outputs": [],
   "execution_count": 120
  },
  {
   "metadata": {
    "ExecuteTime": {
     "end_time": "2025-08-13T13:32:36.407099Z",
     "start_time": "2025-08-13T13:32:36.387295Z"
    }
   },
   "cell_type": "code",
   "source": [
    "X1 = torch.randn((1, 2, 3, 3))\n",
    "kernel = torch.randn((2, 2, 2, 2))\n",
    "print(conv(X1, kernel))"
   ],
   "id": "197ca972ddfdc69b",
   "outputs": [
    {
     "name": "stdout",
     "output_type": "stream",
     "text": [
      "tensor([[[[-0.1808,  0.6518],\n",
      "          [ 1.8739,  1.1714]],\n",
      "\n",
      "         [[-2.9820, -0.6183],\n",
      "          [ 4.0022,  0.8992]]]])\n"
     ]
    }
   ],
   "execution_count": 121
  },
  {
   "metadata": {
    "ExecuteTime": {
     "end_time": "2025-08-13T13:32:39.912446Z",
     "start_time": "2025-08-13T13:32:39.892924Z"
    }
   },
   "cell_type": "code",
   "source": [
    "class MyConv2D(nn.Module):\n",
    "    def __init__(self, in_channels, out_channels, kernel_size, stride=1, padding=0):\n",
    "        super(MyConv2D, self).__init__()\n",
    "        self.stride = stride\n",
    "        self.padding = padding\n",
    "        if isinstance(kernel_size, int):\n",
    "            kernel_size=(kernel_size, kernel_size)\n",
    "        self.weight = nn.Parameter(torch.randn((out_channels, in_channels) + kernel_size))\n",
    "        self.bias = nn.Parameter(torch.randn((out_channels ,1 ,1)))\n",
    "        \n",
    "        \n",
    "    def forward(self, x):\n",
    "        return conv(x, self.weight, self.stride, self.padding) + self.bias"
   ],
   "id": "37f0a694967283fe",
   "outputs": [],
   "execution_count": 122
  },
  {
   "metadata": {
    "ExecuteTime": {
     "end_time": "2025-08-13T13:32:44.263673Z",
     "start_time": "2025-08-13T13:32:44.246188Z"
    }
   },
   "cell_type": "code",
   "source": [
    "my_conv = MyConv2D(2, 2, 2)\n",
    "X = torch.randn((1, 2, 3, 3))\n",
    "print(my_conv.forward(X))"
   ],
   "id": "59b790419d3421dd",
   "outputs": [
    {
     "name": "stdout",
     "output_type": "stream",
     "text": [
      "tensor([[[[-0.8251, -2.8540],\n",
      "          [-1.0554, -3.0797]],\n",
      "\n",
      "         [[-0.7623, -1.1553],\n",
      "          [ 3.6104, -3.8113]]]], grad_fn=<AddBackward0>)\n"
     ]
    }
   ],
   "execution_count": 123
  },
  {
   "metadata": {
    "ExecuteTime": {
     "end_time": "2025-08-13T14:37:26.162713Z",
     "start_time": "2025-08-13T14:37:26.144043Z"
    }
   },
   "cell_type": "code",
   "source": [
    "class ManualVehicleCNN(nn.Module):\n",
    "    def __init__(self):\n",
    "        super().__init__()\n",
    "        self.model=nn.Sequential(\n",
    "            MyConv2D(3, 64, 3), # 输出(64, 62, 62)\n",
    "            nn.ReLU(),\n",
    "            nn.BatchNorm2d(64),\n",
    "            nn.MaxPool2d(2), # 输出(64, 31, 31)\n",
    "            MyConv2D(64, 64, 3), # 输出(64, 29, 29)\n",
    "            nn.ReLU(),\n",
    "            nn.BatchNorm2d(64),\n",
    "            nn.MaxPool2d(2), # 输出(64, 14, 14)\n",
    "            MyConv2D(64, 128, 3), # 输出(128, 12, 12)\n",
    "            nn.ReLU(),\n",
    "            nn.BatchNorm2d(128),\n",
    "            nn.MaxPool2d(2), # 输出(128, 6, 6)\n",
    "            nn.Flatten(),\n",
    "            nn.Linear(128 * 6 * 6, 256), \n",
    "            nn.ReLU(),\n",
    "            nn.Linear(256, 3)\n",
    "        )\n",
    "        self.init_weight()\n",
    "        \n",
    "    \n",
    "    def init_weight(self):\n",
    "        for m in self.modules():\n",
    "            if isinstance(m, nn.Linear):\n",
    "                nn.init.kaiming_normal_(m.weight)\n",
    "                nn.init.zeros_(m.bias)\n",
    "                \n",
    "                \n",
    "    def forward(self, x):\n",
    "        return self.model(x)\n",
    "        \n",
    "        "
   ],
   "id": "c15ce776cef8fd39",
   "outputs": [],
   "execution_count": 192
  },
  {
   "metadata": {
    "ExecuteTime": {
     "end_time": "2025-08-13T14:31:34.943661Z",
     "start_time": "2025-08-13T14:31:34.935042Z"
    }
   },
   "cell_type": "code",
   "source": [
    "from sklearn.metrics import accuracy_score\n",
    "\n",
    "@torch.no_grad()\n",
    "def evaluating(model, dataloader, loss_fct):\n",
    "    loss_list = []\n",
    "    pred_list = []\n",
    "    label_list = []\n",
    "    for datas, labels in dataloader:\n",
    "        datas = datas.to(device)\n",
    "        labels = labels.to(device)\n",
    "        # 前向计算\n",
    "        logits = model(datas)\n",
    "        loss = loss_fct(logits, labels)         # 验证集损失\n",
    "        loss_list.append(loss.item())\n",
    "        \n",
    "        preds = logits.argmax(axis=-1)    # 验证集预测\n",
    "        pred_list.extend(preds.cpu().numpy().tolist())\n",
    "        label_list.extend(labels.cpu().numpy().tolist())\n",
    "        \n",
    "    acc = accuracy_score(label_list, pred_list)\n",
    "    return np.mean(loss_list), acc\n"
   ],
   "id": "c7dfec1803e5cb78",
   "outputs": [],
   "execution_count": 181
  },
  {
   "metadata": {
    "ExecuteTime": {
     "end_time": "2025-08-13T14:31:37.057443Z",
     "start_time": "2025-08-13T14:31:37.052863Z"
    }
   },
   "cell_type": "code",
   "source": [
    "class EarlyStopCallback:\n",
    "    def __init__(self, patience=5, min_delta=0.01):\n",
    "        self.patience = patience\n",
    "        self.min_delta = min_delta\n",
    "        self.best_metric = -1\n",
    "        self.counter = 0\n",
    "        \n",
    "    def __call__(self, metric):\n",
    "        if metric >= self.best_metric + self.min_delta:\n",
    "            # update best metric\n",
    "            self.best_metric = metric\n",
    "            # reset counter \n",
    "            self.counter = 0\n",
    "        else: \n",
    "            self.counter += 1\n",
    "            \n",
    "    @property\n",
    "    def early_stop(self):\n",
    "        return self.counter >= self.patience\n"
   ],
   "id": "5e2f1ba9cf68b46f",
   "outputs": [],
   "execution_count": 182
  },
  {
   "metadata": {
    "ExecuteTime": {
     "end_time": "2025-08-13T14:37:29.006623Z",
     "start_time": "2025-08-13T14:37:28.988218Z"
    }
   },
   "cell_type": "code",
   "source": [
    "# 训练\n",
    "def training_manual_cnn(\n",
    "    model, \n",
    "    train_loader, \n",
    "    val_loader, \n",
    "    epoch, \n",
    "    loss_fct, \n",
    "    optimizer, \n",
    "    early_stop_callback=None,\n",
    "    eval_step=100,\n",
    "    ):\n",
    "    record_dict = {\n",
    "        \"train\": [],\n",
    "        \"val\": []\n",
    "    }\n",
    "    \n",
    "    global_step = 0\n",
    "    model.train()\n",
    "    with tqdm(total=epoch * len(train_loader)) as pbar:\n",
    "        for epoch_id in range(epoch):\n",
    "            # training\n",
    "            for datas, labels in train_loader:\n",
    "                datas = datas.to(device)\n",
    "                labels = labels.to(device)\n",
    "                # 梯度清空\n",
    "                optimizer.zero_grad()\n",
    "                # 模型前向计算\n",
    "                logits = model(datas)\n",
    "                # 计算损失\n",
    "                loss = loss_fct(logits, labels)\n",
    "                # 梯度回传\n",
    "                loss.backward()\n",
    "                # 调整优化器，包括学习率的变动等\n",
    "                optimizer.step()\n",
    "                preds = logits.argmax(axis=-1) #最大值的索引\n",
    "            \n",
    "                acc = accuracy_score(labels.cpu().numpy(), preds.cpu().numpy())     # 计算准确率\n",
    "                loss = loss.cpu().item() # 计算损失\n",
    "                # record\n",
    "                \n",
    "                record_dict[\"train\"].append({\n",
    "                    \"loss\": loss, \"acc\": acc, \"step\": global_step # 记录每一步的损失和准确率\n",
    "                })\n",
    "                \n",
    "                # evaluating\n",
    "                if global_step % eval_step == 0:\n",
    "                    model.eval()\n",
    "                    val_loss, val_acc = evaluating(model, val_loader, loss_fct)\n",
    "                    record_dict[\"val\"].append({\n",
    "                        \"loss\": val_loss, \"acc\": val_acc, \"step\": global_step\n",
    "                    })\n",
    "                    model.train()\n",
    "\n",
    "\n",
    "                    if early_stop_callback is not None:\n",
    "                        early_stop_callback(val_acc)\n",
    "                        if early_stop_callback.early_stop:\n",
    "                            print(f\"Early stop at epoch {epoch_id} / global_step {global_step}\")\n",
    "                            return record_dict\n",
    "                    \n",
    "                # udate step\n",
    "                global_step += 1\n",
    "                pbar.update(1)\n",
    "                pbar.set_postfix({\"epoch\": epoch_id})\n",
    "        \n",
    "    return record_dict"
   ],
   "id": "41572f1c17f4a3e2",
   "outputs": [],
   "execution_count": 193
  },
  {
   "metadata": {
    "ExecuteTime": {
     "end_time": "2025-08-13T14:39:53.018714Z",
     "start_time": "2025-08-13T14:37:30.069068Z"
    }
   },
   "cell_type": "code",
   "source": [
    "epoch = 30\n",
    "model_manual_vehicle = ManualVehicleCNN()\n",
    "loss_fct_manual_vehicle = nn.CrossEntropyLoss()\n",
    "optimizer_manual_vehicle = torch.optim.Adam(model_manual_vehicle.parameters(), lr=0.001)\n",
    "early_stop_callback = EarlyStopCallback(patience=5)\n",
    "model_manual_vehicle = model_manual_vehicle.to(device)\n",
    "record_manual_vehicle = training_manual_cnn(\n",
    "    model_manual_vehicle,\n",
    "    train_dl_vehicle,\n",
    "    val_dl_vehicle,\n",
    "    epoch,\n",
    "    loss_fct_manual_vehicle,\n",
    "    optimizer_manual_vehicle,\n",
    "    early_stop_callback=early_stop_callback,\n",
    "    eval_step=100\n",
    "    )"
   ],
   "id": "19244578d13aa030",
   "outputs": [
    {
     "data": {
      "text/plain": [
       "  0%|          | 0/780 [00:00<?, ?it/s]"
      ],
      "application/vnd.jupyter.widget-view+json": {
       "version_major": 2,
       "version_minor": 0,
       "model_id": "56ac20a80081426fa5a0534c8649c52c"
      }
     },
     "metadata": {},
     "output_type": "display_data"
    },
    {
     "name": "stdout",
     "output_type": "stream",
     "text": [
      "Early stop at epoch 23 / global_step 600\n"
     ]
    }
   ],
   "execution_count": 194
  },
  {
   "metadata": {
    "ExecuteTime": {
     "end_time": "2025-08-13T14:59:20.940900Z",
     "start_time": "2025-08-13T14:59:20.836927Z"
    }
   },
   "cell_type": "code",
   "source": [
    "plt.plot([i[\"step\"] for i in record_manual_vehicle[\"train\"]], [i[\"loss\"] for i in record_manual_vehicle[\"train\"]], label=\"train_loss\")\n",
    "plt.plot([i[\"step\"] for i in record_manual_vehicle[\"val\"]], [i[\"loss\"] for i in record_manual_vehicle[\"val\"]], label=\"val_loss\")\n",
    "plt.grid()\n",
    "plt.legend()\n",
    "max_loss = max(\n",
    "    max([i[\"loss\"] for i in record_manual_vehicle[\"train\"]]),\n",
    "    max([i[\"loss\"] for i in record_manual_vehicle[\"val\"]])\n",
    ")\n",
    "plt.ylim(0, 4)  # 上浮10%留出余量\n",
    "plt.show()"
   ],
   "id": "66131f623ec5a659",
   "outputs": [
    {
     "data": {
      "text/plain": [
       "<Figure size 640x480 with 1 Axes>"
      ],
      "image/png": "[encoded data removed]"
     },
     "metadata": {},
     "output_type": "display_data"
    }
   ],
   "execution_count": 216
  },
  {
   "metadata": {
    "ExecuteTime": {
     "end_time": "2025-08-13T14:59:09.551208Z",
     "start_time": "2025-08-13T14:59:09.431885Z"
    }
   },
   "cell_type": "code",
   "source": [
    "plt.plot([i[\"step\"] for i in record_manual_vehicle[\"train\"]], [i[\"acc\"] for i in record_manual_vehicle[\"train\"]], label=\"train_acc\")\n",
    "plt.plot([i[\"step\"] for i in record_manual_vehicle[\"val\"]], [i[\"acc\"] for i in record_manual_vehicle[\"val\"]], label=\"val_acc\")\n",
    "plt.grid()\n",
    "plt.legend()\n",
    "max_acc = max(\n",
    "    max([i[\"acc\"] for i in record_manual_vehicle[\"train\"]]),\n",
    "    max([i[\"acc\"] for i in record_manual_vehicle[\"val\"]])\n",
    ")\n",
    "plt.ylim(0.6, 1)  # 上浮10%留出余量\n",
    "plt.show()"
   ],
   "id": "7d2d7072fad0f32c",
   "outputs": [
    {
     "data": {
      "text/plain": [
       "<Figure size 640x480 with 1 Axes>"
      ],
      "image/png": "[encoded data removed]"
     },
     "metadata": {},
     "output_type": "display_data"
    }
   ],
   "execution_count": 215
  },
  {
   "metadata": {
    "ExecuteTime": {
     "end_time": "2025-08-13T14:59:36.039457Z",
     "start_time": "2025-08-13T14:59:35.106054Z"
    }
   },
   "cell_type": "code",
   "source": [
    "model_manual_vehicle.eval()\n",
    "loss, acc= evaluating(model_manual_vehicle, test_dl_vehicle, loss_fct_manual_vehicle)\n",
    "print(f\"loss:     {loss:.4f}\\nacc: {acc:.4f}\")"
   ],
   "id": "95e043bed6aa648",
   "outputs": [
    {
     "name": "stdout",
     "output_type": "stream",
     "text": [
      "loss:     0.2117\n",
      "acc: 0.9412\n"
     ]
    }
   ],
   "execution_count": 218
  },
  {
   "metadata": {
    "ExecuteTime": {
     "end_time": "2025-08-13T14:59:36.882687Z",
     "start_time": "2025-08-13T14:59:36.873957Z"
    }
   },
   "cell_type": "code",
   "source": "print(len(train_dl_vehicle))",
   "id": "e1d3356043aca8f8",
   "outputs": [
    {
     "name": "stdout",
     "output_type": "stream",
     "text": [
      "26\n"
     ]
    }
   ],
   "execution_count": 219
  },
  {
   "metadata": {},
   "cell_type": "markdown",
   "source": "# torch.nn 实现CNN",
   "id": "9817b6c32a7081c7"
  },
  {
   "metadata": {
    "ExecuteTime": {
     "end_time": "2025-08-13T16:19:47.788959Z",
     "start_time": "2025-08-13T16:19:47.753834Z"
    }
   },
   "cell_type": "code",
   "source": [
    "class NnVehicleCNN(nn.Module):\n",
    "    def __init__(self):\n",
    "        super().__init__()\n",
    "        self.model=nn.Sequential(\n",
    "            nn.Conv2d(3, 64, kernel_size=3, stride=1),\n",
    "            nn.ReLU(),\n",
    "            nn.BatchNorm2d(64),\n",
    "            nn.MaxPool2d(2), # 输出(64, 31, 31)\n",
    "            nn.Conv2d(64, 64, kernel_size=3, stride=1), # 输出(64, 29, 29)\n",
    "            nn.ReLU(),\n",
    "            nn.BatchNorm2d(64),\n",
    "            nn.MaxPool2d(2), # 输出(64, 14, 14)\n",
    "            nn.Conv2d(64, 128, kernel_size=3, stride=1), # 输出(128, 12, 12)\n",
    "            nn.ReLU(),\n",
    "            nn.BatchNorm2d(128),\n",
    "            nn.MaxPool2d(2), # 输出(128, 6, 6)\n",
    "            nn.Flatten(),\n",
    "            nn.Linear(128 * 6 * 6, 256), \n",
    "            nn.ReLU(),\n",
    "            nn.Linear(256, 3)\n",
    "        )\n",
    "        self.init_weight()\n",
    "        \n",
    "    \n",
    "    def init_weight(self):\n",
    "        for m in self.modules():\n",
    "            if isinstance(m, (nn.Linear, nn.Conv2d)):\n",
    "                nn.init.kaiming_normal_(m.weight)\n",
    "                nn.init.zeros_(m.bias)\n",
    "                \n",
    "                \n",
    "    def forward(self, x):\n",
    "        return self.model(x)\n",
    "        \n",
    "        "
   ],
   "id": "d297940bed1af5ed",
   "outputs": [],
   "execution_count": 220
  },
  {
   "metadata": {
    "ExecuteTime": {
     "end_time": "2025-08-13T16:20:17.071973Z",
     "start_time": "2025-08-13T16:20:17.044948Z"
    }
   },
   "cell_type": "code",
   "source": [
    "# 训练\n",
    "def training_nn_cnn(\n",
    "    model, \n",
    "    train_loader, \n",
    "    val_loader, \n",
    "    epoch, \n",
    "    loss_fct, \n",
    "    optimizer, \n",
    "    early_stop_callback=None,\n",
    "    eval_step=100,\n",
    "    ):\n",
    "    record_dict = {\n",
    "        \"train\": [],\n",
    "        \"val\": []\n",
    "    }\n",
    "    \n",
    "    global_step = 0\n",
    "    model.train()\n",
    "    with tqdm(total=epoch * len(train_loader)) as pbar:\n",
    "        for epoch_id in range(epoch):\n",
    "            # training\n",
    "            for datas, labels in train_loader:\n",
    "                datas = datas.to(device)\n",
    "                labels = labels.to(device)\n",
    "                # 梯度清空\n",
    "                optimizer.zero_grad()\n",
    "                # 模型前向计算\n",
    "                logits = model(datas)\n",
    "                # 计算损失\n",
    "                loss = loss_fct(logits, labels)\n",
    "                # 梯度回传\n",
    "                loss.backward()\n",
    "                # 调整优化器，包括学习率的变动等\n",
    "                optimizer.step()\n",
    "                preds = logits.argmax(axis=-1) #最大值的索引\n",
    "            \n",
    "                acc = accuracy_score(labels.cpu().numpy(), preds.cpu().numpy())     # 计算准确率\n",
    "                loss = loss.cpu().item() # 计算损失\n",
    "                # record\n",
    "                \n",
    "                record_dict[\"train\"].append({\n",
    "                    \"loss\": loss, \"acc\": acc, \"step\": global_step # 记录每一步的损失和准确率\n",
    "                })\n",
    "                \n",
    "                # evaluating\n",
    "                if global_step % eval_step == 0:\n",
    "                    model.eval()\n",
    "                    val_loss, val_acc = evaluating(model, val_loader, loss_fct)\n",
    "                    record_dict[\"val\"].append({\n",
    "                        \"loss\": val_loss, \"acc\": val_acc, \"step\": global_step\n",
    "                    })\n",
    "                    model.train()\n",
    "\n",
    "\n",
    "                    if early_stop_callback is not None:\n",
    "                        early_stop_callback(val_acc)\n",
    "                        if early_stop_callback.early_stop:\n",
    "                            print(f\"Early stop at epoch {epoch_id} / global_step {global_step}\")\n",
    "                            return record_dict\n",
    "                    \n",
    "                # udate step\n",
    "                global_step += 1\n",
    "                pbar.update(1)\n",
    "                pbar.set_postfix({\"epoch\": epoch_id})\n",
    "        \n",
    "    return record_dict"
   ],
   "id": "1226cbb456104437",
   "outputs": [],
   "execution_count": 221
  },
  {
   "metadata": {
    "ExecuteTime": {
     "end_time": "2025-08-13T16:23:37.351506Z",
     "start_time": "2025-08-13T16:22:14.718531Z"
    }
   },
   "cell_type": "code",
   "source": [
    "epoch = 30\n",
    "model_nn_vehicle = NnVehicleCNN()\n",
    "loss_fct_nn_vehicle = nn.CrossEntropyLoss()\n",
    "optimizer_nn_vehicle = torch.optim.Adam(model_nn_vehicle.parameters(), lr=0.001)\n",
    "early_stop_callback = EarlyStopCallback(patience=5)\n",
    "model_nn_vehicle = model_nn_vehicle.to(device)\n",
    "record_nn_vehicle = training_nn_cnn(\n",
    "    model_nn_vehicle,\n",
    "    train_dl_vehicle,\n",
    "    val_dl_vehicle,\n",
    "    epoch,\n",
    "    loss_fct_nn_vehicle,\n",
    "    optimizer_nn_vehicle,\n",
    "    early_stop_callback=early_stop_callback,\n",
    "    eval_step=100\n",
    "    )"
   ],
   "id": "465edb3ff28b8e8a",
   "outputs": [
    {
     "data": {
      "text/plain": [
       "  0%|          | 0/780 [00:00<?, ?it/s]"
      ],
      "application/vnd.jupyter.widget-view+json": {
       "version_major": 2,
       "version_minor": 0,
       "model_id": "d64fe4ec078843698f6235cc4fcecd3f"
      }
     },
     "metadata": {},
     "output_type": "display_data"
    },
    {
     "name": "stdout",
     "output_type": "stream",
     "text": [
      "Early stop at epoch 23 / global_step 600\n"
     ]
    }
   ],
   "execution_count": 223
  },
  {
   "metadata": {
    "ExecuteTime": {
     "end_time": "2025-08-13T16:23:40.342115Z",
     "start_time": "2025-08-13T16:23:40.213437Z"
    }
   },
   "cell_type": "code",
   "source": [
    "plt.plot([i[\"step\"] for i in record_nn_vehicle[\"train\"]], [i[\"loss\"] for i in record_nn_vehicle[\"train\"]], label=\"train_loss\")\n",
    "plt.plot([i[\"step\"] for i in record_nn_vehicle[\"val\"]], [i[\"loss\"] for i in record_nn_vehicle[\"val\"]], label=\"val_loss\")\n",
    "plt.grid()\n",
    "plt.legend()\n",
    "max_loss = max(\n",
    "    max([i[\"loss\"] for i in record_nn_vehicle[\"train\"]]),\n",
    "    max([i[\"loss\"] for i in record_nn_vehicle[\"val\"]])\n",
    ")\n",
    "plt.ylim(0, 4)  # 上浮10%留出余量\n",
    "plt.show()"
   ],
   "id": "6465361fa80e48c0",
   "outputs": [
    {
     "data": {
      "text/plain": [
       "<Figure size 640x480 with 1 Axes>"
      ],
      "image/png": "[encoded data removed]"
     },
     "metadata": {},
     "output_type": "display_data"
    }
   ],
   "execution_count": 224
  },
  {
   "metadata": {
    "ExecuteTime": {
     "end_time": "2025-08-13T16:23:55.091296Z",
     "start_time": "2025-08-13T16:23:54.981095Z"
    }
   },
   "cell_type": "code",
   "source": [
    "plt.plot([i[\"step\"] for i in record_nn_vehicle[\"train\"]], [i[\"acc\"] for i in record_nn_vehicle[\"train\"]], label=\"train_acc\")\n",
    "plt.plot([i[\"step\"] for i in record_nn_vehicle[\"val\"]], [i[\"acc\"] for i in record_nn_vehicle[\"val\"]], label=\"val_acc\")\n",
    "plt.grid()\n",
    "plt.legend()\n",
    "max_acc = max(\n",
    "    max([i[\"acc\"] for i in record_nn_vehicle[\"train\"]]),\n",
    "    max([i[\"acc\"] for i in record_nn_vehicle[\"val\"]])\n",
    ")\n",
    "plt.ylim(0.6, 1)  # 上浮10%留出余量\n",
    "plt.show()"
   ],
   "id": "1ab10056706475ed",
   "outputs": [
    {
     "data": {
      "text/plain": [
       "<Figure size 640x480 with 1 Axes>"
      ],
      "image/png": "[encoded data removed]"
     },
     "metadata": {},
     "output_type": "display_data"
    }
   ],
   "execution_count": 225
  },
  {
   "metadata": {
    "ExecuteTime": {
     "end_time": "2025-08-13T16:24:11.985652Z",
     "start_time": "2025-08-13T16:24:11.206054Z"
    }
   },
   "cell_type": "code",
   "source": [
    "model_nn_vehicle.eval()\n",
    "loss, acc= evaluating(model_nn_vehicle, test_dl_vehicle, loss_fct_nn_vehicle)\n",
    "print(f\"loss:     {loss:.4f}\\nacc: {acc:.4f}\")"
   ],
   "id": "994a9bc5c9c1dc2f",
   "outputs": [
    {
     "name": "stdout",
     "output_type": "stream",
     "text": [
      "loss:     0.2191\n",
      "acc: 0.9559\n"
     ]
    }
   ],
   "execution_count": 227
  },
  {
   "metadata": {},
   "cell_type": "code",
   "outputs": [],
   "execution_count": null,
   "source": "",
   "id": "7cc1cbf76ac01942"
  }
 ],
 "metadata": {
  "kernelspec": {
   "display_name": "Python 3",
   "language": "python",
   "name": "python3"
  },
  "language_info": {
   "codemirror_mode": {
    "name": "ipython",
    "version": 2
   },
   "file_extension": ".py",
   "mimetype": "text/x-python",
   "name": "python",
   "nbconvert_exporter": "python",
   "pygments_lexer": "ipython2",
   "version": "2.7.6"
  }
 },
 "nbformat": 4,
 "nbformat_minor": 5
}
